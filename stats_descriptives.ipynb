{
 "cells": [
  {
   "cell_type": "markdown",
   "metadata": {},
   "source": [
    "# Stats Descriptives"
   ]
  },
  {
   "cell_type": "code",
   "execution_count": 1,
   "metadata": {},
   "outputs": [],
   "source": [
    "%matplotlib inline\n",
    "import numpy as np\n",
    "import pandas as pd\n",
    "import matplotlib.pyplot as plt\n",
    "import math\n",
    "from geopy.distance import vincenty"
   ]
  },
  {
   "cell_type": "code",
   "execution_count": 2,
   "metadata": {},
   "outputs": [],
   "source": [
    "# load train and test data\n",
    "df_mess_train = pd.read_csv('../data/mess_train_list.csv')\n",
    "df_mess_test = pd.read_csv('../data/mess_test_list.csv')\n",
    "pos_train = pd.read_csv('../data/pos_train_list.csv')\n",
    "pred_pos_test = pd.read_csv('../data/pred_pos_test_list.csv')"
   ]
  },
  {
   "cell_type": "code",
   "execution_count": 3,
   "metadata": {},
   "outputs": [
    {
     "data": {
      "text/html": [
       "<div>\n",
       "<style>\n",
       "    .dataframe thead tr:only-child th {\n",
       "        text-align: right;\n",
       "    }\n",
       "\n",
       "    .dataframe thead th {\n",
       "        text-align: left;\n",
       "    }\n",
       "\n",
       "    .dataframe tbody tr th {\n",
       "        vertical-align: top;\n",
       "    }\n",
       "</style>\n",
       "<table border=\"1\" class=\"dataframe\">\n",
       "  <thead>\n",
       "    <tr style=\"text-align: right;\">\n",
       "      <th></th>\n",
       "      <th>objid</th>\n",
       "      <th>bsid</th>\n",
       "      <th>did</th>\n",
       "      <th>nseq</th>\n",
       "      <th>rssi</th>\n",
       "      <th>time_ux</th>\n",
       "      <th>bs_lat</th>\n",
       "      <th>bs_lng</th>\n",
       "    </tr>\n",
       "  </thead>\n",
       "  <tbody>\n",
       "    <tr>\n",
       "      <th>0</th>\n",
       "      <td>573bf1d9864fce1a9af8c5c9</td>\n",
       "      <td>2841</td>\n",
       "      <td>473335.0</td>\n",
       "      <td>0.5</td>\n",
       "      <td>-121.5</td>\n",
       "      <td>1.463546e+12</td>\n",
       "      <td>39.617794</td>\n",
       "      <td>-104.954917</td>\n",
       "    </tr>\n",
       "    <tr>\n",
       "      <th>1</th>\n",
       "      <td>573bf1d9864fce1a9af8c5c9</td>\n",
       "      <td>3526</td>\n",
       "      <td>473335.0</td>\n",
       "      <td>2.0</td>\n",
       "      <td>-125.0</td>\n",
       "      <td>1.463546e+12</td>\n",
       "      <td>39.677251</td>\n",
       "      <td>-104.952721</td>\n",
       "    </tr>\n",
       "    <tr>\n",
       "      <th>2</th>\n",
       "      <td>573bf3533e952e19126b256a</td>\n",
       "      <td>2605</td>\n",
       "      <td>473335.0</td>\n",
       "      <td>1.0</td>\n",
       "      <td>-134.0</td>\n",
       "      <td>1.463547e+12</td>\n",
       "      <td>39.612745</td>\n",
       "      <td>-105.008827</td>\n",
       "    </tr>\n",
       "    <tr>\n",
       "      <th>3</th>\n",
       "      <td>573c0cd0f0fe6e735a699b93</td>\n",
       "      <td>2610</td>\n",
       "      <td>473953.0</td>\n",
       "      <td>2.0</td>\n",
       "      <td>-132.0</td>\n",
       "      <td>1.463553e+12</td>\n",
       "      <td>39.797969</td>\n",
       "      <td>-105.073460</td>\n",
       "    </tr>\n",
       "    <tr>\n",
       "      <th>4</th>\n",
       "      <td>573c0cd0f0fe6e735a699b93</td>\n",
       "      <td>3574</td>\n",
       "      <td>473953.0</td>\n",
       "      <td>1.0</td>\n",
       "      <td>-120.0</td>\n",
       "      <td>1.463553e+12</td>\n",
       "      <td>39.723151</td>\n",
       "      <td>-104.956216</td>\n",
       "    </tr>\n",
       "  </tbody>\n",
       "</table>\n",
       "</div>"
      ],
      "text/plain": [
       "                      objid  bsid       did  nseq   rssi       time_ux  \\\n",
       "0  573bf1d9864fce1a9af8c5c9  2841  473335.0   0.5 -121.5  1.463546e+12   \n",
       "1  573bf1d9864fce1a9af8c5c9  3526  473335.0   2.0 -125.0  1.463546e+12   \n",
       "2  573bf3533e952e19126b256a  2605  473335.0   1.0 -134.0  1.463547e+12   \n",
       "3  573c0cd0f0fe6e735a699b93  2610  473953.0   2.0 -132.0  1.463553e+12   \n",
       "4  573c0cd0f0fe6e735a699b93  3574  473953.0   1.0 -120.0  1.463553e+12   \n",
       "\n",
       "      bs_lat      bs_lng  \n",
       "0  39.617794 -104.954917  \n",
       "1  39.677251 -104.952721  \n",
       "2  39.612745 -105.008827  \n",
       "3  39.797969 -105.073460  \n",
       "4  39.723151 -104.956216  "
      ]
     },
     "execution_count": 3,
     "metadata": {},
     "output_type": "execute_result"
    }
   ],
   "source": [
    "df_mess_train.head()"
   ]
  },
  {
   "cell_type": "markdown",
   "metadata": {},
   "source": [
    "## Plot density\n",
    "\n",
    "### Plot RSSI density\n",
    "> **rssi**: puissance du signal lors de la réception."
   ]
  },
  {
   "cell_type": "code",
   "execution_count": 4,
   "metadata": {},
   "outputs": [
    {
     "data": {
      "image/png": "[encoded data removed]",
      "text/plain": [
       "<matplotlib.figure.Figure at 0x7f584f841b00>"
      ]
     },
     "metadata": {},
     "output_type": "display_data"
    }
   ],
   "source": [
    "min_rssi = df_mess_train.rssi.min()\n",
    "max_rssi = df_mess_train.rssi.max()\n",
    "\n",
    "df_mess_train.rssi.plot.density(label=\"train\")\n",
    "df_mess_test.rssi.plot.density(label=\"test\")\n",
    "\n",
    "\n",
    "plt.xlim(min_rssi, max_rssi)\n",
    "plt.title(\"RSSI\")\n",
    "plt.legend()\n",
    "plt.show()"
   ]
  },
  {
   "cell_type": "markdown",
   "metadata": {},
   "source": [
    "> **rssi**: On a les mêmes densité pour les train et test sets. (cf rapport)"
   ]
  },
  {
   "cell_type": "markdown",
   "metadata": {},
   "source": [
    "### Plot Nseq density\n",
    "> **nseq**: fréquence à laquelle les messages sont envoyés (contient peu d'info)"
   ]
  },
  {
   "cell_type": "code",
   "execution_count": 5,
   "metadata": {},
   "outputs": [
    {
     "data": {
      "image/png": "[encoded data removed]",
      "text/plain": [
       "<matplotlib.figure.Figure at 0x7f584f8417b8>"
      ]
     },
     "metadata": {},
     "output_type": "display_data"
    }
   ],
   "source": [
    "df_mess_train.nseq.plot.density(label=\"train\")\n",
    "df_mess_test.nseq.plot.density(label=\"test\")\n",
    "\n",
    "plt.title(\"NSEQ\")\n",
    "plt.legend()\n",
    "plt.show()"
   ]
  },
  {
   "cell_type": "markdown",
   "metadata": {},
   "source": [
    "> Globalement on a les mêmes densités entre le train et le test set pour la variable **nseq**."
   ]
  },
  {
   "cell_type": "markdown",
   "metadata": {},
   "source": [
    "## Plot Map"
   ]
  },
  {
   "cell_type": "code",
   "execution_count": 6,
   "metadata": {},
   "outputs": [],
   "source": [
    "import folium"
   ]
  },
  {
   "cell_type": "markdown",
   "metadata": {},
   "source": [
    "On réalise des listes qui contiennent les coordonnées des bases."
   ]
  },
  {
   "cell_type": "code",
   "execution_count": 7,
   "metadata": {},
   "outputs": [],
   "source": [
    "LAT_LONG_BASE = set(zip(df_mess_train.bs_lat, df_mess_train.bs_lng, df_mess_train.bsid))\n",
    "LAT_LONG_OBJ = list(set(zip(pos_train.lat, pos_train.lng)))\n",
    "LAT_LONG_PRED = list(set(zip(pred_pos_test.lat, pred_pos_test.lng)))\n",
    "LAT_LONG_TEST = set(zip(df_mess_test.bs_lat, df_mess_test.bs_lng, df_mess_test.bsid))"
   ]
  },
  {
   "cell_type": "markdown",
   "metadata": {},
   "source": [
    "On regarde si toutes les bases du **training set** sont aussi présentes dans le **test set**:"
   ]
  },
  {
   "cell_type": "code",
   "execution_count": 8,
   "metadata": {},
   "outputs": [],
   "source": [
    "unique_bsid_train = set(df_mess_train.bsid)\n",
    "unique_bsid_test = set(df_mess_test.bsid)\n",
    "\n",
    "bsid_in_train_not_in_test = LAT_LONG_BASE.difference(LAT_LONG_TEST)\n",
    "bsid_in_test_not_in_train = LAT_LONG_TEST.difference(LAT_LONG_BASE)\n",
    "shared_bsid = set.intersection(LAT_LONG_BASE, LAT_LONG_TEST)"
   ]
  },
  {
   "cell_type": "markdown",
   "metadata": {},
   "source": [
    "On affiche la map:\n",
    "* en **bleu marine** on affiche les bases partagées par les deux **sets** (training et test). \n",
    "* en **orange** on affiche les stations uniquement dans le **test set**.\n",
    "* en **cyan** on affiche les stations uniquement dans le **training set**."
   ]
  },
  {
   "cell_type": "code",
   "execution_count": 9,
   "metadata": {},
   "outputs": [],
   "source": [
    "map_osm = folium.Map(location=[40, -103], zoom_start=6, tiles='Stamen Terrain')\n",
    "count = 0\n",
    "far_bsids = []\n",
    "\n",
    "for lat, long, bsid in bsid_in_train_not_in_test:\n",
    "    folium.RegularPolygonMarker([lat, long], popup='base ' + str(bsid),\n",
    "                                fill_color='cyan', number_of_sides=8, radius=7).add_to(map_osm)\n",
    "\n",
    "for lat, long, bsid in bsid_in_test_not_in_train:\n",
    "    folium.RegularPolygonMarker([lat, long], popup='base ' + str(bsid),\n",
    "                                fill_color='orange', number_of_sides=8, radius=7).add_to(map_osm)\n",
    "\n",
    "for lat, long, bsid in shared_bsid:\n",
    "    folium.RegularPolygonMarker([lat, long], popup='base ' + str(bsid),\n",
    "                                fill_color='blue', number_of_sides=8, radius=7).add_to(map_osm)\n",
    "\n",
    "path = '/tmp/my_map.html'\n",
    "map_osm.save(path)\n",
    "\n",
    "# map_osm"
   ]
  },
  {
   "cell_type": "markdown",
   "metadata": {},
   "source": [
    "> On voit que les bases de mesure sont majoritairement alignées. Certaines sont plutôt excentrées avec notation une occurence au Canada. On a pris la décision de laisser ces stations assez excentrées lors de l'entraînement des algorithmes car nous n'avions pas de connaissances sur le **test set**. Elles auraient pu être ignorées si on avait eu la certitude que les points du **test set** étaient localisés dans la *ligne* de capteurs."
   ]
  },
  {
   "cell_type": "code",
   "execution_count": null,
   "metadata": {},
   "outputs": [],
   "source": []
  }
 ],
 "metadata": {
  "kernelspec": {
   "display_name": "Python 3",
   "language": "python",
   "name": "python3"
  },
  "language_info": {
   "codemirror_mode": {
    "name": "ipython",
    "version": 3
   },
   "file_extension": ".py",
   "mimetype": "text/x-python",
   "name": "python",
   "nbconvert_exporter": "python",
   "pygments_lexer": "ipython3",
   "version": "3.5.2"
  }
 },
 "nbformat": 4,
 "nbformat_minor": 1
}
