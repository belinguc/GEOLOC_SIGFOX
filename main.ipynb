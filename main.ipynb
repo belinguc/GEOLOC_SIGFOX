{
 "cells": [
  {
   "cell_type": "markdown",
   "metadata": {},
   "source": [
    "# TP GEOLOC SIGFOX - MAIN"
   ]
  },
  {
   "cell_type": "code",
   "execution_count": 1,
   "metadata": {},
   "outputs": [],
   "source": [
    "%matplotlib inline\n",
    "import numpy as np\n",
    "import pandas as pd\n",
    "import matplotlib.pyplot as plt\n",
    "import math\n",
    "from geopy.distance import vincenty"
   ]
  },
  {
   "cell_type": "code",
   "execution_count": 2,
   "metadata": {},
   "outputs": [
    {
     "name": "stderr",
     "output_type": "stream",
     "text": [
      "/Users/christopherbelinguier/virtualenvs/idemia_env/lib/python3.6/site-packages/sklearn/cross_validation.py:41: DeprecationWarning: This module was deprecated in version 0.18 in favor of the model_selection module into which all the refactored classes and functions are moved. Also note that the interface of the new CV iterators are different from that of this module. This module will be removed in 0.20.\n",
      "  \"This module will be removed in 0.20.\", DeprecationWarning)\n"
     ]
    }
   ],
   "source": [
    "from sklearn import linear_model\n",
    "from sklearn.ensemble import RandomForestRegressor, ExtraTreesRegressor\n",
    "from sklearn.model_selection import GridSearchCV\n",
    "\n",
    "from xgboost import XGBRegressor"
   ]
  },
  {
   "cell_type": "code",
   "execution_count": 3,
   "metadata": {},
   "outputs": [],
   "source": [
    "from tools import * #tools.py file from Christopher"
   ]
  },
  {
   "cell_type": "markdown",
   "metadata": {
    "collapsed": true
   },
   "source": [
    "## PATH"
   ]
  },
  {
   "cell_type": "code",
   "execution_count": 4,
   "metadata": {},
   "outputs": [],
   "source": [
    "path_data = 'data/'"
   ]
  },
  {
   "cell_type": "markdown",
   "metadata": {},
   "source": [
    "# Feature matrix"
   ]
  },
  {
   "cell_type": "code",
   "execution_count": 5,
   "metadata": {},
   "outputs": [],
   "source": [
    "df_train = pd.read_csv(path_data + 'train_formatted_lat_lng_dummies.csv',delimiter=\";\") # train set\n",
    "df_val = pd.read_csv(path_data + 'val_formatted_lat_lng_dummies.csv',delimiter=\";\") # val set\n",
    "df_test = pd.read_csv(path_data + 'test_formatted_lat_lng_dummies.csv',delimiter=\";\") # test set"
   ]
  },
  {
   "cell_type": "code",
   "execution_count": 6,
   "metadata": {},
   "outputs": [
    {
     "name": "stdout",
     "output_type": "stream",
     "text": [
      "df_train (5046, 518)\n",
      "df_val (1022, 518)\n",
      "df_test (5294, 518)\n"
     ]
    }
   ],
   "source": [
    "groups = df_train['did']\n",
    "\n",
    "df_train = df_train.drop('did',axis=1)\n",
    "df_val = df_val.drop('did',axis=1)\n",
    "df_test = df_test.drop('did',axis=1)\n",
    "\n",
    "print(\"df_train\",df_train.shape)\n",
    "print(\"df_val\",df_val.shape)\n",
    "print(\"df_test\",df_test.shape)"
   ]
  },
  {
   "cell_type": "markdown",
   "metadata": {},
   "source": [
    "Lat / Lng : y"
   ]
  },
  {
   "cell_type": "code",
   "execution_count": 7,
   "metadata": {},
   "outputs": [],
   "source": [
    "ground_truth_train = pd.read_csv(path_data + 'ground_truth_train.csv',delimiter=\";\") # train set\n",
    "ground_truth_val = pd.read_csv(path_data + 'ground_truth_val.csv',delimiter=\";\") # val set"
   ]
  },
  {
   "cell_type": "code",
   "execution_count": 8,
   "metadata": {},
   "outputs": [
    {
     "name": "stdout",
     "output_type": "stream",
     "text": [
      "ground_truth_train (5046, 2)\n",
      "ground_truth_val (1022, 2)\n"
     ]
    }
   ],
   "source": [
    "print(\"ground_truth_train\",ground_truth_train.shape)\n",
    "print(\"ground_truth_val\",ground_truth_val.shape)\n",
    "\n",
    "ground_truth_lat = ground_truth_train['lat']\n",
    "ground_truth_lng = ground_truth_train['lng']"
   ]
  },
  {
   "cell_type": "markdown",
   "metadata": {},
   "source": [
    "## Find best model"
   ]
  },
  {
   "cell_type": "markdown",
   "metadata": {},
   "source": [
    "##### latitude"
   ]
  },
  {
   "cell_type": "code",
   "execution_count": 9,
   "metadata": {},
   "outputs": [],
   "source": [
    "from sklearn.model_selection import LeaveOneGroupOut\n",
    "\n",
    "\n",
    "def best_param(X_train, y_train,groups):\n",
    "\n",
    "    #n_estimators_range = np.linspace(20, 1000, num=6, dtype=np.int64)\n",
    "    n_estimators_range = [1000]\n",
    "    \n",
    "    # \"max_depth\":[None]\n",
    "    my_param_grid = {\"n_estimators\": n_estimators_range,\n",
    "                     \"learning_rate\":[0.1], \"min_child_weight\":[3, 9, 27]}\n",
    "    \n",
    "    # my_param_grid = {\"n_estimators\": n_estimators_range, \"min_samples_leaf\":[5]}\n",
    "    \n",
    "    X_train = np.array(X_train); \n",
    "    \n",
    "    # reg = RandomForestRegressor()\n",
    "    reg = XGBRegressor()\n",
    "    \n",
    "    cv_loo = LeaveOneGroupOut().split(X_train, y_train, groups)\n",
    "    paramGrid = GridSearchCV(estimator=reg, \n",
    "                         param_grid=my_param_grid,\n",
    "                         cv=cv_loo, n_jobs=-1, verbose=2)\n",
    "\n",
    "    paramGrid.fit(X_train, y_train);\n",
    "\n",
    "    return paramGrid"
   ]
  },
  {
   "cell_type": "markdown",
   "metadata": {},
   "source": [
    "##### latitude"
   ]
  },
  {
   "cell_type": "code",
   "execution_count": 10,
   "metadata": {
    "scrolled": false
   },
   "outputs": [],
   "source": [
    "# paramGrid = best_param(df_train, ground_truth_lat, groups)\n",
    "# best_model_lat = paramGrid.best_estimator_\n",
    "# best_model_lat"
   ]
  },
  {
   "cell_type": "code",
   "execution_count": 11,
   "metadata": {},
   "outputs": [],
   "source": [
    "# paramGrid.cv_results_"
   ]
  },
  {
   "cell_type": "markdown",
   "metadata": {},
   "source": [
    "##### longitude"
   ]
  },
  {
   "cell_type": "code",
   "execution_count": 12,
   "metadata": {},
   "outputs": [],
   "source": [
    "# paramGrid = best_param(df_train, ground_truth_lng, groups)\n",
    "# best_model_lng = paramGrid.best_estimator_\n",
    "# best_model_lng"
   ]
  },
  {
   "cell_type": "code",
   "execution_count": 13,
   "metadata": {},
   "outputs": [],
   "source": [
    "# paramGrid.cv_results_"
   ]
  },
  {
   "cell_type": "markdown",
   "metadata": {},
   "source": [
    "## Regression and prediction"
   ]
  },
  {
   "cell_type": "code",
   "execution_count": 14,
   "metadata": {},
   "outputs": [],
   "source": [
    "def reg_predict(X_train, y_train, X_val, best_model):\n",
    "    \n",
    "    best_model.fit(X_train, y_train)\n",
    "    y_pred = best_model.predict(X_val)\n",
    "    \n",
    "    return y_pred"
   ]
  },
  {
   "cell_type": "markdown",
   "metadata": {},
   "source": [
    "##### latitude"
   ]
  },
  {
   "cell_type": "code",
   "execution_count": 15,
   "metadata": {},
   "outputs": [],
   "source": [
    "# y_pred_lat = reg_predict(df_train, ground_truth_lat, df_val, best_model_lat)\n",
    "# y_pred_lat"
   ]
  },
  {
   "cell_type": "markdown",
   "metadata": {},
   "source": [
    "##### longitude "
   ]
  },
  {
   "cell_type": "code",
   "execution_count": 16,
   "metadata": {},
   "outputs": [],
   "source": [
    "# y_pred_lng = reg_predict(df_train, ground_truth_lng, df_val, best_model_lng)\n",
    "# y_pred_lng"
   ]
  },
  {
   "cell_type": "markdown",
   "metadata": {},
   "source": [
    "# Random Forest Regressor"
   ]
  },
  {
   "cell_type": "code",
   "execution_count": 17,
   "metadata": {},
   "outputs": [],
   "source": [
    "clf_RandomForestRegressor_lat = RandomForestRegressor(n_estimators=64, max_depth=None).fit(df_train, ground_truth_lat)\n",
    "y_pred_lat = clf_RandomForestRegressor_lat.predict(df_val)"
   ]
  },
  {
   "cell_type": "code",
   "execution_count": 18,
   "metadata": {},
   "outputs": [],
   "source": [
    "clf_RandomForestRegressor_lng = RandomForestRegressor(n_estimators=118, max_depth=None).fit(df_train, ground_truth_lng)\n",
    "y_pred_lng = clf_RandomForestRegressor_lng.predict(df_val)"
   ]
  },
  {
   "cell_type": "markdown",
   "metadata": {},
   "source": [
    "## XGBRegressor"
   ]
  },
  {
   "cell_type": "code",
   "execution_count": 19,
   "metadata": {},
   "outputs": [],
   "source": [
    "# clf = XGBRegressor(min_child_weight=3, max_depth=200, learning_rate=0.1, n_estimators=1000).fit(df_train, ground_truth_lat)\n",
    "# y_pred_lat = clf.predict(df_val)"
   ]
  },
  {
   "cell_type": "code",
   "execution_count": 20,
   "metadata": {},
   "outputs": [],
   "source": [
    "# clf = XGBRegressor(min_child_weight=3, max_depth=200, learning_rate=0.1, n_estimators=1000).fit(df_train, ground_truth_lng)\n",
    "# y_pred_lng = clf.predict(df_val)"
   ]
  },
  {
   "cell_type": "markdown",
   "metadata": {},
   "source": [
    "## Compute error"
   ]
  },
  {
   "cell_type": "code",
   "execution_count": 21,
   "metadata": {},
   "outputs": [
    {
     "name": "stdout",
     "output_type": "stream",
     "text": [
      "Error criterion :  3864.07333437\n"
     ]
    },
    {
     "data": {
      "image/png": "[encoded data removed]",
      "text/plain": [
       "<matplotlib.figure.Figure at 0x1166a5b38>"
      ]
     },
     "metadata": {},
     "output_type": "display_data"
    }
   ],
   "source": [
    "error = compute_and_plot_error_distribution(ground_truth_val['lat'] , ground_truth_val['lng'], y_pred_lat, y_pred_lng)"
   ]
  },
  {
   "cell_type": "markdown",
   "metadata": {},
   "source": [
    "## TEST PREDICTION"
   ]
  },
  {
   "cell_type": "code",
   "execution_count": 22,
   "metadata": {},
   "outputs": [
    {
     "name": "stdout",
     "output_type": "stream",
     "text": [
      "df_test.shape :  (5294, 518)\n"
     ]
    },
    {
     "data": {
      "text/html": [
       "<div>\n",
       "<style scoped>\n",
       "    .dataframe tbody tr th:only-of-type {\n",
       "        vertical-align: middle;\n",
       "    }\n",
       "\n",
       "    .dataframe tbody tr th {\n",
       "        vertical-align: top;\n",
       "    }\n",
       "\n",
       "    .dataframe thead th {\n",
       "        text-align: right;\n",
       "    }\n",
       "</style>\n",
       "<table border=\"1\" class=\"dataframe\">\n",
       "  <thead>\n",
       "    <tr style=\"text-align: right;\">\n",
       "      <th></th>\n",
       "      <th>879_lat</th>\n",
       "      <th>911_lat</th>\n",
       "      <th>921_lat</th>\n",
       "      <th>944_lat</th>\n",
       "      <th>980_lat</th>\n",
       "      <th>1012_lat</th>\n",
       "      <th>1086_lat</th>\n",
       "      <th>1092_lat</th>\n",
       "      <th>1120_lat</th>\n",
       "      <th>1131_lat</th>\n",
       "      <th>...</th>\n",
       "      <th>9936_lng</th>\n",
       "      <th>9941_lng</th>\n",
       "      <th>9949_lng</th>\n",
       "      <th>10134_lng</th>\n",
       "      <th>10148_lng</th>\n",
       "      <th>10151_lng</th>\n",
       "      <th>10162_lng</th>\n",
       "      <th>10999_lng</th>\n",
       "      <th>11007_lng</th>\n",
       "      <th>11951_lng</th>\n",
       "    </tr>\n",
       "  </thead>\n",
       "  <tbody>\n",
       "    <tr>\n",
       "      <th>0</th>\n",
       "      <td>-6581.315727</td>\n",
       "      <td>-6581.315727</td>\n",
       "      <td>-6581.315727</td>\n",
       "      <td>-6581.315727</td>\n",
       "      <td>-6581.315727</td>\n",
       "      <td>-6581.315727</td>\n",
       "      <td>-6581.315727</td>\n",
       "      <td>-6581.315727</td>\n",
       "      <td>-6581.315727</td>\n",
       "      <td>-6581.315727</td>\n",
       "      <td>...</td>\n",
       "      <td>15667.468958</td>\n",
       "      <td>15667.468958</td>\n",
       "      <td>15667.468958</td>\n",
       "      <td>15667.468958</td>\n",
       "      <td>15667.468958</td>\n",
       "      <td>15667.468958</td>\n",
       "      <td>15667.468958</td>\n",
       "      <td>15667.468958</td>\n",
       "      <td>15667.468958</td>\n",
       "      <td>15667.468958</td>\n",
       "    </tr>\n",
       "    <tr>\n",
       "      <th>1</th>\n",
       "      <td>-6581.315727</td>\n",
       "      <td>-6581.315727</td>\n",
       "      <td>-6581.315727</td>\n",
       "      <td>-6581.315727</td>\n",
       "      <td>-6581.315727</td>\n",
       "      <td>-6581.315727</td>\n",
       "      <td>-6581.315727</td>\n",
       "      <td>-6581.315727</td>\n",
       "      <td>-6581.315727</td>\n",
       "      <td>-6581.315727</td>\n",
       "      <td>...</td>\n",
       "      <td>15667.468958</td>\n",
       "      <td>15667.468958</td>\n",
       "      <td>15667.468958</td>\n",
       "      <td>15667.468958</td>\n",
       "      <td>15667.468958</td>\n",
       "      <td>15667.468958</td>\n",
       "      <td>15667.468958</td>\n",
       "      <td>15667.468958</td>\n",
       "      <td>15667.468958</td>\n",
       "      <td>15667.468958</td>\n",
       "    </tr>\n",
       "    <tr>\n",
       "      <th>2</th>\n",
       "      <td>-6581.315727</td>\n",
       "      <td>-6581.315727</td>\n",
       "      <td>-6581.315727</td>\n",
       "      <td>-6581.315727</td>\n",
       "      <td>-6581.315727</td>\n",
       "      <td>-6581.315727</td>\n",
       "      <td>-6581.315727</td>\n",
       "      <td>-6581.315727</td>\n",
       "      <td>-6581.315727</td>\n",
       "      <td>-6581.315727</td>\n",
       "      <td>...</td>\n",
       "      <td>15667.468958</td>\n",
       "      <td>15667.468958</td>\n",
       "      <td>15667.468958</td>\n",
       "      <td>15667.468958</td>\n",
       "      <td>15667.468958</td>\n",
       "      <td>15667.468958</td>\n",
       "      <td>15667.468958</td>\n",
       "      <td>15667.468958</td>\n",
       "      <td>15667.468958</td>\n",
       "      <td>15667.468958</td>\n",
       "    </tr>\n",
       "    <tr>\n",
       "      <th>3</th>\n",
       "      <td>-6581.315727</td>\n",
       "      <td>-6581.315727</td>\n",
       "      <td>-6581.315727</td>\n",
       "      <td>-6581.315727</td>\n",
       "      <td>-6581.315727</td>\n",
       "      <td>-6581.315727</td>\n",
       "      <td>-6581.315727</td>\n",
       "      <td>-6581.315727</td>\n",
       "      <td>-6581.315727</td>\n",
       "      <td>-6581.315727</td>\n",
       "      <td>...</td>\n",
       "      <td>15667.468958</td>\n",
       "      <td>15667.468958</td>\n",
       "      <td>15667.468958</td>\n",
       "      <td>15667.468958</td>\n",
       "      <td>15667.468958</td>\n",
       "      <td>15667.468958</td>\n",
       "      <td>15667.468958</td>\n",
       "      <td>15667.468958</td>\n",
       "      <td>15667.468958</td>\n",
       "      <td>15667.468958</td>\n",
       "    </tr>\n",
       "    <tr>\n",
       "      <th>4</th>\n",
       "      <td>-6581.315727</td>\n",
       "      <td>-6581.315727</td>\n",
       "      <td>-6581.315727</td>\n",
       "      <td>-6581.315727</td>\n",
       "      <td>-6581.315727</td>\n",
       "      <td>-6581.315727</td>\n",
       "      <td>-6581.315727</td>\n",
       "      <td>-6581.315727</td>\n",
       "      <td>-6581.315727</td>\n",
       "      <td>-6581.315727</td>\n",
       "      <td>...</td>\n",
       "      <td>15667.468958</td>\n",
       "      <td>15667.468958</td>\n",
       "      <td>15667.468958</td>\n",
       "      <td>15667.468958</td>\n",
       "      <td>15667.468958</td>\n",
       "      <td>15667.468958</td>\n",
       "      <td>15667.468958</td>\n",
       "      <td>15667.468958</td>\n",
       "      <td>15667.468958</td>\n",
       "      <td>15667.468958</td>\n",
       "    </tr>\n",
       "  </tbody>\n",
       "</table>\n",
       "<p>5 rows × 518 columns</p>\n",
       "</div>"
      ],
      "text/plain": [
       "       879_lat      911_lat      921_lat      944_lat      980_lat  \\\n",
       "0 -6581.315727 -6581.315727 -6581.315727 -6581.315727 -6581.315727   \n",
       "1 -6581.315727 -6581.315727 -6581.315727 -6581.315727 -6581.315727   \n",
       "2 -6581.315727 -6581.315727 -6581.315727 -6581.315727 -6581.315727   \n",
       "3 -6581.315727 -6581.315727 -6581.315727 -6581.315727 -6581.315727   \n",
       "4 -6581.315727 -6581.315727 -6581.315727 -6581.315727 -6581.315727   \n",
       "\n",
       "      1012_lat     1086_lat     1092_lat     1120_lat     1131_lat  \\\n",
       "0 -6581.315727 -6581.315727 -6581.315727 -6581.315727 -6581.315727   \n",
       "1 -6581.315727 -6581.315727 -6581.315727 -6581.315727 -6581.315727   \n",
       "2 -6581.315727 -6581.315727 -6581.315727 -6581.315727 -6581.315727   \n",
       "3 -6581.315727 -6581.315727 -6581.315727 -6581.315727 -6581.315727   \n",
       "4 -6581.315727 -6581.315727 -6581.315727 -6581.315727 -6581.315727   \n",
       "\n",
       "       ...           9936_lng      9941_lng      9949_lng     10134_lng  \\\n",
       "0      ...       15667.468958  15667.468958  15667.468958  15667.468958   \n",
       "1      ...       15667.468958  15667.468958  15667.468958  15667.468958   \n",
       "2      ...       15667.468958  15667.468958  15667.468958  15667.468958   \n",
       "3      ...       15667.468958  15667.468958  15667.468958  15667.468958   \n",
       "4      ...       15667.468958  15667.468958  15667.468958  15667.468958   \n",
       "\n",
       "      10148_lng     10151_lng     10162_lng     10999_lng     11007_lng  \\\n",
       "0  15667.468958  15667.468958  15667.468958  15667.468958  15667.468958   \n",
       "1  15667.468958  15667.468958  15667.468958  15667.468958  15667.468958   \n",
       "2  15667.468958  15667.468958  15667.468958  15667.468958  15667.468958   \n",
       "3  15667.468958  15667.468958  15667.468958  15667.468958  15667.468958   \n",
       "4  15667.468958  15667.468958  15667.468958  15667.468958  15667.468958   \n",
       "\n",
       "      11951_lng  \n",
       "0  15667.468958  \n",
       "1  15667.468958  \n",
       "2  15667.468958  \n",
       "3  15667.468958  \n",
       "4  15667.468958  \n",
       "\n",
       "[5 rows x 518 columns]"
      ]
     },
     "execution_count": 22,
     "metadata": {},
     "output_type": "execute_result"
    }
   ],
   "source": [
    "# Feature matrix (test)\n",
    "print(\"df_test.shape : \", df_test.shape)\n",
    "df_test.head()"
   ]
  },
  {
   "cell_type": "code",
   "execution_count": 23,
   "metadata": {},
   "outputs": [
    {
     "data": {
      "text/plain": [
       "array([ 39.72191943,  39.78310248,  39.68940683, ...,  39.66540856,\n",
       "        39.6741952 ,  39.67446386])"
      ]
     },
     "execution_count": 23,
     "metadata": {},
     "output_type": "execute_result"
    }
   ],
   "source": [
    "# Predict y_pred_lat\n",
    "y_pred_lat = reg_predict(df_train, ground_truth_lat, df_test, clf_RandomForestRegressor_lat)\n",
    "y_pred_lat"
   ]
  },
  {
   "cell_type": "code",
   "execution_count": 24,
   "metadata": {},
   "outputs": [
    {
     "data": {
      "text/plain": [
       "array([-105.05976641, -105.06961913, -105.00508567, ..., -105.01760537,\n",
       "       -105.02003542, -105.00286842])"
      ]
     },
     "execution_count": 24,
     "metadata": {},
     "output_type": "execute_result"
    }
   ],
   "source": [
    "# Predict y_pred_lng\n",
    "y_pred_lng = reg_predict(df_train, ground_truth_lng, df_test, clf_RandomForestRegressor_lng)\n",
    "y_pred_lng"
   ]
  },
  {
   "cell_type": "code",
   "execution_count": 25,
   "metadata": {},
   "outputs": [],
   "source": [
    "# Transform prediction in data frame\n",
    "test_res = pd.DataFrame(np.array([y_pred_lat, y_pred_lng]).T, columns = ['lat', 'lng'])"
   ]
  },
  {
   "cell_type": "code",
   "execution_count": 26,
   "metadata": {},
   "outputs": [],
   "source": [
    "# Create csv\n",
    "test_res.to_csv('pred_pos_test_list.csv', index=False)"
   ]
  },
  {
   "cell_type": "code",
   "execution_count": 27,
   "metadata": {},
   "outputs": [
    {
     "name": "stdout",
     "output_type": "stream",
     "text": [
      "test_res.shape :  (5294, 2)\n"
     ]
    },
    {
     "data": {
      "text/html": [
       "<div>\n",
       "<style scoped>\n",
       "    .dataframe tbody tr th:only-of-type {\n",
       "        vertical-align: middle;\n",
       "    }\n",
       "\n",
       "    .dataframe tbody tr th {\n",
       "        vertical-align: top;\n",
       "    }\n",
       "\n",
       "    .dataframe thead th {\n",
       "        text-align: right;\n",
       "    }\n",
       "</style>\n",
       "<table border=\"1\" class=\"dataframe\">\n",
       "  <thead>\n",
       "    <tr style=\"text-align: right;\">\n",
       "      <th></th>\n",
       "      <th>lat</th>\n",
       "      <th>lng</th>\n",
       "    </tr>\n",
       "  </thead>\n",
       "  <tbody>\n",
       "    <tr>\n",
       "      <th>0</th>\n",
       "      <td>39.721919</td>\n",
       "      <td>-105.059766</td>\n",
       "    </tr>\n",
       "    <tr>\n",
       "      <th>1</th>\n",
       "      <td>39.783102</td>\n",
       "      <td>-105.069619</td>\n",
       "    </tr>\n",
       "    <tr>\n",
       "      <th>2</th>\n",
       "      <td>39.689407</td>\n",
       "      <td>-105.005086</td>\n",
       "    </tr>\n",
       "    <tr>\n",
       "      <th>3</th>\n",
       "      <td>39.794350</td>\n",
       "      <td>-105.074303</td>\n",
       "    </tr>\n",
       "    <tr>\n",
       "      <th>4</th>\n",
       "      <td>39.688519</td>\n",
       "      <td>-105.000153</td>\n",
       "    </tr>\n",
       "  </tbody>\n",
       "</table>\n",
       "</div>"
      ],
      "text/plain": [
       "         lat         lng\n",
       "0  39.721919 -105.059766\n",
       "1  39.783102 -105.069619\n",
       "2  39.689407 -105.005086\n",
       "3  39.794350 -105.074303\n",
       "4  39.688519 -105.000153"
      ]
     },
     "execution_count": 27,
     "metadata": {},
     "output_type": "execute_result"
    }
   ],
   "source": [
    "# Print prediction\n",
    "print(\"test_res.shape : \", test_res.shape)\n",
    "test_res.head()"
   ]
  }
 ],
 "metadata": {
  "kernelspec": {
   "display_name": "Python 3",
   "language": "python",
   "name": "python3"
  },
  "language_info": {
   "codemirror_mode": {
    "name": "ipython",
    "version": 3
   },
   "file_extension": ".py",
   "mimetype": "text/x-python",
   "name": "python",
   "nbconvert_exporter": "python",
   "pygments_lexer": "ipython3",
   "version": "3.6.3"
  }
 },
 "nbformat": 4,
 "nbformat_minor": 2
}
