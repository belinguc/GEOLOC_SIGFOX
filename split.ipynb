{
 "cells": [
  {
   "cell_type": "markdown",
   "metadata": {},
   "source": [
    "# TP GEOLOC SIGFOX"
   ]
  },
  {
   "cell_type": "markdown",
   "metadata": {},
   "source": [
    "## SETUP"
   ]
  },
  {
   "cell_type": "code",
   "execution_count": 1,
   "metadata": {},
   "outputs": [],
   "source": [
    "%matplotlib inline\n",
    "\n",
    "import math\n",
    "import numpy as np\n",
    "import pandas as pd\n",
    "\n",
    "\n",
    "from time import time\n",
    "import matplotlib.pyplot as plt\n",
    "from geopy.distance import vincenty\n",
    "\n",
    "from scipy.stats import randint\n",
    "\n",
    "from sklearn import linear_model, ensemble, svm\n",
    "from sklearn.model_selection import cross_val_predict, cross_val_score, GridSearchCV, LeaveOneOut, \\\n",
    "    LeaveOneGroupOut, StratifiedShuffleSplit, train_test_split\n",
    "\n",
    "import warnings\n",
    "warnings.filterwarnings('ignore')"
   ]
  },
  {
   "cell_type": "markdown",
   "metadata": {},
   "source": [
    "## PATH"
   ]
  },
  {
   "cell_type": "code",
   "execution_count": 2,
   "metadata": {},
   "outputs": [],
   "source": [
    "# Path data repository\n",
    "path_data = 'data/'"
   ]
  },
  {
   "cell_type": "markdown",
   "metadata": {},
   "source": [
    "## LOAD TRAIN & TEST DATA SET"
   ]
  },
  {
   "cell_type": "code",
   "execution_count": 3,
   "metadata": {},
   "outputs": [
    {
     "name": "stdout",
     "output_type": "stream",
     "text": [
      "X_train : df_mess_train.shape :  (39250, 8)\n",
      "Y_train : pos_train.shape :  (39250, 2)\n",
      "X_test : df_mess_test.shape :  (29286, 8)\n"
     ]
    }
   ],
   "source": [
    "# X train\n",
    "df_mess_train = pd.read_csv(path_data + 'mess_train_list.csv')\n",
    "print(\"X_train : df_mess_train.shape : \", df_mess_train.shape)\n",
    "\n",
    "# Y train\n",
    "pos_train = pd.read_csv(path_data + 'pos_train_list.csv')\n",
    "print(\"Y_train : pos_train.shape : \", pos_train.shape)\n",
    "\n",
    "# X test\n",
    "df_mess_test = pd.read_csv(path_data + 'mess_test_list.csv')\n",
    "print(\"X_test : df_mess_test.shape : \", df_mess_test.shape)"
   ]
  },
  {
   "cell_type": "code",
   "execution_count": 4,
   "metadata": {},
   "outputs": [
    {
     "name": "stdout",
     "output_type": "stream",
     "text": [
      "Nombre de did_test dans did_train :  0    0\n",
      "dtype: int64\n"
     ]
    }
   ],
   "source": [
    "did_train = pd.DataFrame(df_mess_train['did'].sort_values(axis=0).unique())\n",
    "did_test = pd.DataFrame(df_mess_test['did'].sort_values(axis=0).unique())\n",
    "\n",
    "print(\"Nombre de did_test dans did_train : \", np.sum(did_test.isin(did_train)))"
   ]
  },
  {
   "cell_type": "markdown",
   "metadata": {},
   "source": [
    "## Split Train / Dev"
   ]
  },
  {
   "cell_type": "markdown",
   "metadata": {},
   "source": [
    "### Join X_train & y_train (pour garder la correspondance)"
   ]
  },
  {
   "cell_type": "code",
   "execution_count": 5,
   "metadata": {},
   "outputs": [
    {
     "name": "stdout",
     "output_type": "stream",
     "text": [
      "train_total.shape :  39250\n",
      "Join ok, train_total :  39250  equal df_mess_train :  39250\n"
     ]
    },
    {
     "data": {
      "text/html": [
       "<div>\n",
       "<style scoped>\n",
       "    .dataframe tbody tr th:only-of-type {\n",
       "        vertical-align: middle;\n",
       "    }\n",
       "\n",
       "    .dataframe tbody tr th {\n",
       "        vertical-align: top;\n",
       "    }\n",
       "\n",
       "    .dataframe thead th {\n",
       "        text-align: right;\n",
       "    }\n",
       "</style>\n",
       "<table border=\"1\" class=\"dataframe\">\n",
       "  <thead>\n",
       "    <tr style=\"text-align: right;\">\n",
       "      <th></th>\n",
       "      <th>objid</th>\n",
       "      <th>bsid</th>\n",
       "      <th>did</th>\n",
       "      <th>nseq</th>\n",
       "      <th>rssi</th>\n",
       "      <th>time_ux</th>\n",
       "      <th>bs_lat</th>\n",
       "      <th>bs_lng</th>\n",
       "      <th>lat</th>\n",
       "      <th>lng</th>\n",
       "    </tr>\n",
       "  </thead>\n",
       "  <tbody>\n",
       "    <tr>\n",
       "      <th>0</th>\n",
       "      <td>573bf1d9864fce1a9af8c5c9</td>\n",
       "      <td>2841</td>\n",
       "      <td>473335.0</td>\n",
       "      <td>0.5</td>\n",
       "      <td>-121.5</td>\n",
       "      <td>1.463546e+12</td>\n",
       "      <td>39.617794</td>\n",
       "      <td>-104.954917</td>\n",
       "      <td>39.606690</td>\n",
       "      <td>-104.958490</td>\n",
       "    </tr>\n",
       "    <tr>\n",
       "      <th>1</th>\n",
       "      <td>573bf1d9864fce1a9af8c5c9</td>\n",
       "      <td>3526</td>\n",
       "      <td>473335.0</td>\n",
       "      <td>2.0</td>\n",
       "      <td>-125.0</td>\n",
       "      <td>1.463546e+12</td>\n",
       "      <td>39.677251</td>\n",
       "      <td>-104.952721</td>\n",
       "      <td>39.606690</td>\n",
       "      <td>-104.958490</td>\n",
       "    </tr>\n",
       "    <tr>\n",
       "      <th>2</th>\n",
       "      <td>573bf3533e952e19126b256a</td>\n",
       "      <td>2605</td>\n",
       "      <td>473335.0</td>\n",
       "      <td>1.0</td>\n",
       "      <td>-134.0</td>\n",
       "      <td>1.463547e+12</td>\n",
       "      <td>39.612745</td>\n",
       "      <td>-105.008827</td>\n",
       "      <td>39.637741</td>\n",
       "      <td>-104.958554</td>\n",
       "    </tr>\n",
       "    <tr>\n",
       "      <th>3</th>\n",
       "      <td>573c0cd0f0fe6e735a699b93</td>\n",
       "      <td>2610</td>\n",
       "      <td>473953.0</td>\n",
       "      <td>2.0</td>\n",
       "      <td>-132.0</td>\n",
       "      <td>1.463553e+12</td>\n",
       "      <td>39.797969</td>\n",
       "      <td>-105.073460</td>\n",
       "      <td>39.730417</td>\n",
       "      <td>-104.968940</td>\n",
       "    </tr>\n",
       "    <tr>\n",
       "      <th>4</th>\n",
       "      <td>573c0cd0f0fe6e735a699b93</td>\n",
       "      <td>3574</td>\n",
       "      <td>473953.0</td>\n",
       "      <td>1.0</td>\n",
       "      <td>-120.0</td>\n",
       "      <td>1.463553e+12</td>\n",
       "      <td>39.723151</td>\n",
       "      <td>-104.956216</td>\n",
       "      <td>39.730417</td>\n",
       "      <td>-104.968940</td>\n",
       "    </tr>\n",
       "  </tbody>\n",
       "</table>\n",
       "</div>"
      ],
      "text/plain": [
       "                      objid  bsid       did  nseq   rssi       time_ux  \\\n",
       "0  573bf1d9864fce1a9af8c5c9  2841  473335.0   0.5 -121.5  1.463546e+12   \n",
       "1  573bf1d9864fce1a9af8c5c9  3526  473335.0   2.0 -125.0  1.463546e+12   \n",
       "2  573bf3533e952e19126b256a  2605  473335.0   1.0 -134.0  1.463547e+12   \n",
       "3  573c0cd0f0fe6e735a699b93  2610  473953.0   2.0 -132.0  1.463553e+12   \n",
       "4  573c0cd0f0fe6e735a699b93  3574  473953.0   1.0 -120.0  1.463553e+12   \n",
       "\n",
       "      bs_lat      bs_lng        lat         lng  \n",
       "0  39.617794 -104.954917  39.606690 -104.958490  \n",
       "1  39.677251 -104.952721  39.606690 -104.958490  \n",
       "2  39.612745 -105.008827  39.637741 -104.958554  \n",
       "3  39.797969 -105.073460  39.730417 -104.968940  \n",
       "4  39.723151 -104.956216  39.730417 -104.968940  "
      ]
     },
     "execution_count": 5,
     "metadata": {},
     "output_type": "execute_result"
    }
   ],
   "source": [
    "train_total = df_mess_train.join(pos_train)\n",
    "print(\"train_total.shape : \", len(train_total))\n",
    "\n",
    "if len(train_total) == len(df_mess_train):\n",
    "    print(\"Join ok, train_total : \", len(train_total), \" equal df_mess_train : \", len(df_mess_train))\n",
    "else:\n",
    "    print(\"Error join, train_total : \", len(train_total), \" not equal df_mess_train : \", len(df_mess_train))\n",
    "\n",
    "    \n",
    "train_total.head()"
   ]
  },
  {
   "cell_type": "markdown",
   "metadata": {},
   "source": [
    "### Sort by deviceID"
   ]
  },
  {
   "cell_type": "code",
   "execution_count": 6,
   "metadata": {},
   "outputs": [
    {
     "data": {
      "text/html": [
       "<div>\n",
       "<style scoped>\n",
       "    .dataframe tbody tr th:only-of-type {\n",
       "        vertical-align: middle;\n",
       "    }\n",
       "\n",
       "    .dataframe tbody tr th {\n",
       "        vertical-align: top;\n",
       "    }\n",
       "\n",
       "    .dataframe thead th {\n",
       "        text-align: right;\n",
       "    }\n",
       "</style>\n",
       "<table border=\"1\" class=\"dataframe\">\n",
       "  <thead>\n",
       "    <tr style=\"text-align: right;\">\n",
       "      <th></th>\n",
       "      <th>objid</th>\n",
       "      <th>bsid</th>\n",
       "      <th>did</th>\n",
       "      <th>nseq</th>\n",
       "      <th>rssi</th>\n",
       "      <th>time_ux</th>\n",
       "      <th>bs_lat</th>\n",
       "      <th>bs_lng</th>\n",
       "      <th>lat</th>\n",
       "      <th>lng</th>\n",
       "    </tr>\n",
       "  </thead>\n",
       "  <tbody>\n",
       "    <tr>\n",
       "      <th>0</th>\n",
       "      <td>582ae1d712f1434b9ccad421</td>\n",
       "      <td>2189</td>\n",
       "      <td>473288.0</td>\n",
       "      <td>1.0</td>\n",
       "      <td>-127.000000</td>\n",
       "      <td>1.479205e+12</td>\n",
       "      <td>39.817654</td>\n",
       "      <td>-105.050984</td>\n",
       "      <td>39.774984</td>\n",
       "      <td>-105.039440</td>\n",
       "    </tr>\n",
       "    <tr>\n",
       "      <th>1</th>\n",
       "      <td>582bde7bcf554f7e3a1a7720</td>\n",
       "      <td>3848</td>\n",
       "      <td>473288.0</td>\n",
       "      <td>1.0</td>\n",
       "      <td>-128.666667</td>\n",
       "      <td>1.479270e+12</td>\n",
       "      <td>43.614138</td>\n",
       "      <td>-103.723449</td>\n",
       "      <td>39.774541</td>\n",
       "      <td>-105.039339</td>\n",
       "    </tr>\n",
       "    <tr>\n",
       "      <th>2</th>\n",
       "      <td>582bde7bcf554f7e3a1a7720</td>\n",
       "      <td>3501</td>\n",
       "      <td>473288.0</td>\n",
       "      <td>1.5</td>\n",
       "      <td>-136.000000</td>\n",
       "      <td>1.479270e+12</td>\n",
       "      <td>43.639226</td>\n",
       "      <td>-103.761023</td>\n",
       "      <td>39.774541</td>\n",
       "      <td>-105.039339</td>\n",
       "    </tr>\n",
       "    <tr>\n",
       "      <th>3</th>\n",
       "      <td>582bde7bcf554f7e3a1a7720</td>\n",
       "      <td>2803</td>\n",
       "      <td>473288.0</td>\n",
       "      <td>1.5</td>\n",
       "      <td>-139.500000</td>\n",
       "      <td>1.479270e+12</td>\n",
       "      <td>43.657077</td>\n",
       "      <td>-103.756890</td>\n",
       "      <td>39.774541</td>\n",
       "      <td>-105.039339</td>\n",
       "    </tr>\n",
       "    <tr>\n",
       "      <th>4</th>\n",
       "      <td>582bde7bcf554f7e3a1a7720</td>\n",
       "      <td>2800</td>\n",
       "      <td>473288.0</td>\n",
       "      <td>1.5</td>\n",
       "      <td>-138.000000</td>\n",
       "      <td>1.479270e+12</td>\n",
       "      <td>43.631515</td>\n",
       "      <td>-103.765896</td>\n",
       "      <td>39.774541</td>\n",
       "      <td>-105.039339</td>\n",
       "    </tr>\n",
       "  </tbody>\n",
       "</table>\n",
       "</div>"
      ],
      "text/plain": [
       "                      objid  bsid       did  nseq        rssi       time_ux  \\\n",
       "0  582ae1d712f1434b9ccad421  2189  473288.0   1.0 -127.000000  1.479205e+12   \n",
       "1  582bde7bcf554f7e3a1a7720  3848  473288.0   1.0 -128.666667  1.479270e+12   \n",
       "2  582bde7bcf554f7e3a1a7720  3501  473288.0   1.5 -136.000000  1.479270e+12   \n",
       "3  582bde7bcf554f7e3a1a7720  2803  473288.0   1.5 -139.500000  1.479270e+12   \n",
       "4  582bde7bcf554f7e3a1a7720  2800  473288.0   1.5 -138.000000  1.479270e+12   \n",
       "\n",
       "      bs_lat      bs_lng        lat         lng  \n",
       "0  39.817654 -105.050984  39.774984 -105.039440  \n",
       "1  43.614138 -103.723449  39.774541 -105.039339  \n",
       "2  43.639226 -103.761023  39.774541 -105.039339  \n",
       "3  43.657077 -103.756890  39.774541 -105.039339  \n",
       "4  43.631515 -103.765896  39.774541 -105.039339  "
      ]
     },
     "execution_count": 6,
     "metadata": {},
     "output_type": "execute_result"
    }
   ],
   "source": [
    "# Sort by deviceID pour s'entrainer sur des devices id different de ceux utilisé pour predire  \n",
    "train_total = train_total.sort_values(by='did', ascending=True)\n",
    "train_total.reset_index(drop=True, inplace=True)\n",
    "train_total.head()"
   ]
  },
  {
   "cell_type": "markdown",
   "metadata": {},
   "source": [
    "### Split 70 / 30"
   ]
  },
  {
   "cell_type": "code",
   "execution_count": 7,
   "metadata": {},
   "outputs": [
    {
     "name": "stdout",
     "output_type": "stream",
     "text": [
      "index_start_test :  29805\n",
      "did separateur :  473288.0\n",
      "percentage_dev_test :  0.240636942675\n"
     ]
    }
   ],
   "source": [
    "# determine all did\n",
    "all_did = df_mess_train['did']\n",
    "unique_did = np.unique(df_mess_train['did'])\n",
    "nb_did = len(unique_did)\n",
    "\n",
    "for my_did in unique_did:\n",
    "    index_start_test = all_did[all_did == my_did].index[0]\n",
    "    percentage_dev_test = 1 - (index_start_test / len(df_mess_train))\n",
    "    if percentage_dev_test < 0.31:\n",
    "        break\n",
    "\n",
    "print(\"index_start_test : \", index_start_test)\n",
    "print(\"did separateur : \", my_did)\n",
    "print(\"percentage_dev_test : \", percentage_dev_test)"
   ]
  },
  {
   "cell_type": "code",
   "execution_count": 8,
   "metadata": {},
   "outputs": [
    {
     "name": "stdout",
     "output_type": "stream",
     "text": [
      "Shape X_dev_train : (29805, 8) | Shape X_dev_test : (9445, 8)\n",
      "Shape y_dev_train : (29805, 2) | Shape y_dev_test : (9445, 2)\n"
     ]
    }
   ],
   "source": [
    "# Split dev_train & dev_test\n",
    "X_dev_train, X_dev_test, y_dev_train, y_dev_test = train_test_split(df_mess_train, pos_train, test_size=percentage_dev_test, shuffle=False)\n",
    "\n",
    "print(\"Shape X_dev_train : \" + str(X_dev_train.shape) + \" | Shape X_dev_test : \" + str(X_dev_test.shape)) \n",
    "print(\"Shape y_dev_train : \" + str(y_dev_train.shape) + \" | Shape y_dev_test : \" + str(y_dev_test.shape)) "
   ]
  },
  {
   "cell_type": "code",
   "execution_count": 9,
   "metadata": {},
   "outputs": [
    {
     "data": {
      "text/html": [
       "<div>\n",
       "<style scoped>\n",
       "    .dataframe tbody tr th:only-of-type {\n",
       "        vertical-align: middle;\n",
       "    }\n",
       "\n",
       "    .dataframe tbody tr th {\n",
       "        vertical-align: top;\n",
       "    }\n",
       "\n",
       "    .dataframe thead th {\n",
       "        text-align: right;\n",
       "    }\n",
       "</style>\n",
       "<table border=\"1\" class=\"dataframe\">\n",
       "  <thead>\n",
       "    <tr style=\"text-align: right;\">\n",
       "      <th></th>\n",
       "      <th>objid</th>\n",
       "      <th>bsid</th>\n",
       "      <th>did</th>\n",
       "      <th>nseq</th>\n",
       "      <th>rssi</th>\n",
       "      <th>time_ux</th>\n",
       "      <th>bs_lat</th>\n",
       "      <th>bs_lng</th>\n",
       "    </tr>\n",
       "  </thead>\n",
       "  <tbody>\n",
       "    <tr>\n",
       "      <th>29800</th>\n",
       "      <td>582aca5b12f1434b9cb450b2</td>\n",
       "      <td>7382</td>\n",
       "      <td>476315.0</td>\n",
       "      <td>1.5</td>\n",
       "      <td>-124.0</td>\n",
       "      <td>1.479199e+12</td>\n",
       "      <td>39.743521</td>\n",
       "      <td>-105.000917</td>\n",
       "    </tr>\n",
       "    <tr>\n",
       "      <th>29801</th>\n",
       "      <td>582aca5b12f1434b9cb450b2</td>\n",
       "      <td>8355</td>\n",
       "      <td>476315.0</td>\n",
       "      <td>0.5</td>\n",
       "      <td>-116.5</td>\n",
       "      <td>1.479199e+12</td>\n",
       "      <td>64.300000</td>\n",
       "      <td>-68.500000</td>\n",
       "    </tr>\n",
       "    <tr>\n",
       "      <th>29802</th>\n",
       "      <td>582aca5b12f1434b9cb450b2</td>\n",
       "      <td>8356</td>\n",
       "      <td>476315.0</td>\n",
       "      <td>1.0</td>\n",
       "      <td>-112.0</td>\n",
       "      <td>1.479199e+12</td>\n",
       "      <td>39.757034</td>\n",
       "      <td>-104.976127</td>\n",
       "    </tr>\n",
       "    <tr>\n",
       "      <th>29803</th>\n",
       "      <td>582aca5b12f1434b9cb450b2</td>\n",
       "      <td>8397</td>\n",
       "      <td>476315.0</td>\n",
       "      <td>0.5</td>\n",
       "      <td>-130.5</td>\n",
       "      <td>1.479199e+12</td>\n",
       "      <td>39.759396</td>\n",
       "      <td>-105.001415</td>\n",
       "    </tr>\n",
       "    <tr>\n",
       "      <th>29804</th>\n",
       "      <td>582aca5b12f1434b9cb450b2</td>\n",
       "      <td>8474</td>\n",
       "      <td>476315.0</td>\n",
       "      <td>1.0</td>\n",
       "      <td>-124.0</td>\n",
       "      <td>1.479199e+12</td>\n",
       "      <td>39.732045</td>\n",
       "      <td>-104.973651</td>\n",
       "    </tr>\n",
       "  </tbody>\n",
       "</table>\n",
       "</div>"
      ],
      "text/plain": [
       "                          objid  bsid       did  nseq   rssi       time_ux  \\\n",
       "29800  582aca5b12f1434b9cb450b2  7382  476315.0   1.5 -124.0  1.479199e+12   \n",
       "29801  582aca5b12f1434b9cb450b2  8355  476315.0   0.5 -116.5  1.479199e+12   \n",
       "29802  582aca5b12f1434b9cb450b2  8356  476315.0   1.0 -112.0  1.479199e+12   \n",
       "29803  582aca5b12f1434b9cb450b2  8397  476315.0   0.5 -130.5  1.479199e+12   \n",
       "29804  582aca5b12f1434b9cb450b2  8474  476315.0   1.0 -124.0  1.479199e+12   \n",
       "\n",
       "          bs_lat      bs_lng  \n",
       "29800  39.743521 -105.000917  \n",
       "29801  64.300000  -68.500000  \n",
       "29802  39.757034 -104.976127  \n",
       "29803  39.759396 -105.001415  \n",
       "29804  39.732045 -104.973651  "
      ]
     },
     "execution_count": 9,
     "metadata": {},
     "output_type": "execute_result"
    }
   ],
   "source": [
    "# Return the last rows of X_dev_train\n",
    "X_dev_train.tail()"
   ]
  },
  {
   "cell_type": "code",
   "execution_count": 10,
   "metadata": {},
   "outputs": [
    {
     "data": {
      "text/html": [
       "<div>\n",
       "<style scoped>\n",
       "    .dataframe tbody tr th:only-of-type {\n",
       "        vertical-align: middle;\n",
       "    }\n",
       "\n",
       "    .dataframe tbody tr th {\n",
       "        vertical-align: top;\n",
       "    }\n",
       "\n",
       "    .dataframe thead th {\n",
       "        text-align: right;\n",
       "    }\n",
       "</style>\n",
       "<table border=\"1\" class=\"dataframe\">\n",
       "  <thead>\n",
       "    <tr style=\"text-align: right;\">\n",
       "      <th></th>\n",
       "      <th>lat</th>\n",
       "      <th>lng</th>\n",
       "    </tr>\n",
       "  </thead>\n",
       "  <tbody>\n",
       "    <tr>\n",
       "      <th>0</th>\n",
       "      <td>39.606690</td>\n",
       "      <td>-104.958490</td>\n",
       "    </tr>\n",
       "    <tr>\n",
       "      <th>1</th>\n",
       "      <td>39.606690</td>\n",
       "      <td>-104.958490</td>\n",
       "    </tr>\n",
       "    <tr>\n",
       "      <th>2</th>\n",
       "      <td>39.637741</td>\n",
       "      <td>-104.958554</td>\n",
       "    </tr>\n",
       "    <tr>\n",
       "      <th>3</th>\n",
       "      <td>39.730417</td>\n",
       "      <td>-104.968940</td>\n",
       "    </tr>\n",
       "    <tr>\n",
       "      <th>4</th>\n",
       "      <td>39.730417</td>\n",
       "      <td>-104.968940</td>\n",
       "    </tr>\n",
       "  </tbody>\n",
       "</table>\n",
       "</div>"
      ],
      "text/plain": [
       "         lat         lng\n",
       "0  39.606690 -104.958490\n",
       "1  39.606690 -104.958490\n",
       "2  39.637741 -104.958554\n",
       "3  39.730417 -104.968940\n",
       "4  39.730417 -104.968940"
      ]
     },
     "execution_count": 10,
     "metadata": {},
     "output_type": "execute_result"
    }
   ],
   "source": [
    "# Return the first rows of y_dev_train\n",
    "y_dev_train.head()"
   ]
  },
  {
   "cell_type": "code",
   "execution_count": 11,
   "metadata": {},
   "outputs": [
    {
     "data": {
      "text/html": [
       "<div>\n",
       "<style scoped>\n",
       "    .dataframe tbody tr th:only-of-type {\n",
       "        vertical-align: middle;\n",
       "    }\n",
       "\n",
       "    .dataframe tbody tr th {\n",
       "        vertical-align: top;\n",
       "    }\n",
       "\n",
       "    .dataframe thead th {\n",
       "        text-align: right;\n",
       "    }\n",
       "</style>\n",
       "<table border=\"1\" class=\"dataframe\">\n",
       "  <thead>\n",
       "    <tr style=\"text-align: right;\">\n",
       "      <th></th>\n",
       "      <th>objid</th>\n",
       "      <th>bsid</th>\n",
       "      <th>did</th>\n",
       "      <th>nseq</th>\n",
       "      <th>rssi</th>\n",
       "      <th>time_ux</th>\n",
       "      <th>bs_lat</th>\n",
       "      <th>bs_lng</th>\n",
       "    </tr>\n",
       "  </thead>\n",
       "  <tbody>\n",
       "    <tr>\n",
       "      <th>0</th>\n",
       "      <td>582ae03712f1434b9cc93a71</td>\n",
       "      <td>1594</td>\n",
       "      <td>473288.0</td>\n",
       "      <td>2.0</td>\n",
       "      <td>-127.0</td>\n",
       "      <td>1.479205e+12</td>\n",
       "      <td>64.300000</td>\n",
       "      <td>-68.500000</td>\n",
       "    </tr>\n",
       "    <tr>\n",
       "      <th>1</th>\n",
       "      <td>582ae03712f1434b9cc93a71</td>\n",
       "      <td>2731</td>\n",
       "      <td>473288.0</td>\n",
       "      <td>1.5</td>\n",
       "      <td>-104.5</td>\n",
       "      <td>1.479205e+12</td>\n",
       "      <td>39.781464</td>\n",
       "      <td>-105.040763</td>\n",
       "    </tr>\n",
       "    <tr>\n",
       "      <th>2</th>\n",
       "      <td>582ae03712f1434b9cc93a71</td>\n",
       "      <td>3579</td>\n",
       "      <td>473288.0</td>\n",
       "      <td>2.0</td>\n",
       "      <td>-118.0</td>\n",
       "      <td>1.479205e+12</td>\n",
       "      <td>39.755019</td>\n",
       "      <td>-105.043315</td>\n",
       "    </tr>\n",
       "    <tr>\n",
       "      <th>3</th>\n",
       "      <td>582ae03712f1434b9cc93a71</td>\n",
       "      <td>4058</td>\n",
       "      <td>473288.0</td>\n",
       "      <td>0.0</td>\n",
       "      <td>-124.0</td>\n",
       "      <td>1.479205e+12</td>\n",
       "      <td>39.783211</td>\n",
       "      <td>-105.088747</td>\n",
       "    </tr>\n",
       "    <tr>\n",
       "      <th>4</th>\n",
       "      <td>582ae03712f1434b9cc93a71</td>\n",
       "      <td>4993</td>\n",
       "      <td>473288.0</td>\n",
       "      <td>1.0</td>\n",
       "      <td>-127.0</td>\n",
       "      <td>1.479205e+12</td>\n",
       "      <td>64.300000</td>\n",
       "      <td>-68.500000</td>\n",
       "    </tr>\n",
       "  </tbody>\n",
       "</table>\n",
       "</div>"
      ],
      "text/plain": [
       "                      objid  bsid       did  nseq   rssi       time_ux  \\\n",
       "0  582ae03712f1434b9cc93a71  1594  473288.0   2.0 -127.0  1.479205e+12   \n",
       "1  582ae03712f1434b9cc93a71  2731  473288.0   1.5 -104.5  1.479205e+12   \n",
       "2  582ae03712f1434b9cc93a71  3579  473288.0   2.0 -118.0  1.479205e+12   \n",
       "3  582ae03712f1434b9cc93a71  4058  473288.0   0.0 -124.0  1.479205e+12   \n",
       "4  582ae03712f1434b9cc93a71  4993  473288.0   1.0 -127.0  1.479205e+12   \n",
       "\n",
       "      bs_lat      bs_lng  \n",
       "0  64.300000  -68.500000  \n",
       "1  39.781464 -105.040763  \n",
       "2  39.755019 -105.043315  \n",
       "3  39.783211 -105.088747  \n",
       "4  64.300000  -68.500000  "
      ]
     },
     "execution_count": 11,
     "metadata": {},
     "output_type": "execute_result"
    }
   ],
   "source": [
    "X_dev_test.reset_index(drop=True, inplace=True)\n",
    "X_dev_test.head()"
   ]
  },
  {
   "cell_type": "code",
   "execution_count": 12,
   "metadata": {},
   "outputs": [
    {
     "data": {
      "text/html": [
       "<div>\n",
       "<style scoped>\n",
       "    .dataframe tbody tr th:only-of-type {\n",
       "        vertical-align: middle;\n",
       "    }\n",
       "\n",
       "    .dataframe tbody tr th {\n",
       "        vertical-align: top;\n",
       "    }\n",
       "\n",
       "    .dataframe thead th {\n",
       "        text-align: right;\n",
       "    }\n",
       "</style>\n",
       "<table border=\"1\" class=\"dataframe\">\n",
       "  <thead>\n",
       "    <tr style=\"text-align: right;\">\n",
       "      <th></th>\n",
       "      <th>lat</th>\n",
       "      <th>lng</th>\n",
       "    </tr>\n",
       "  </thead>\n",
       "  <tbody>\n",
       "    <tr>\n",
       "      <th>0</th>\n",
       "      <td>39.775428</td>\n",
       "      <td>-105.039537</td>\n",
       "    </tr>\n",
       "    <tr>\n",
       "      <th>1</th>\n",
       "      <td>39.775428</td>\n",
       "      <td>-105.039537</td>\n",
       "    </tr>\n",
       "    <tr>\n",
       "      <th>2</th>\n",
       "      <td>39.775428</td>\n",
       "      <td>-105.039537</td>\n",
       "    </tr>\n",
       "    <tr>\n",
       "      <th>3</th>\n",
       "      <td>39.775428</td>\n",
       "      <td>-105.039537</td>\n",
       "    </tr>\n",
       "    <tr>\n",
       "      <th>4</th>\n",
       "      <td>39.775428</td>\n",
       "      <td>-105.039537</td>\n",
       "    </tr>\n",
       "  </tbody>\n",
       "</table>\n",
       "</div>"
      ],
      "text/plain": [
       "         lat         lng\n",
       "0  39.775428 -105.039537\n",
       "1  39.775428 -105.039537\n",
       "2  39.775428 -105.039537\n",
       "3  39.775428 -105.039537\n",
       "4  39.775428 -105.039537"
      ]
     },
     "execution_count": 12,
     "metadata": {},
     "output_type": "execute_result"
    }
   ],
   "source": [
    "# Return the first rows of y_dev_test\n",
    "y_dev_test.reset_index(drop=True, inplace=True)\n",
    "y_dev_test.head()"
   ]
  },
  {
   "cell_type": "markdown",
   "metadata": {},
   "source": [
    "## Save csv"
   ]
  },
  {
   "cell_type": "code",
   "execution_count": 13,
   "metadata": {},
   "outputs": [],
   "source": [
    "# Create csv\n",
    "X_dev_train.to_csv(path_data + 'train_X.csv', index=False)"
   ]
  },
  {
   "cell_type": "code",
   "execution_count": 14,
   "metadata": {},
   "outputs": [],
   "source": [
    "# Create csv\n",
    "y_dev_train.to_csv(path_data + 'train_y.csv', index=False)"
   ]
  },
  {
   "cell_type": "code",
   "execution_count": 15,
   "metadata": {},
   "outputs": [],
   "source": [
    "# Create csv\n",
    "X_dev_test.to_csv(path_data + 'val_X.csv', index=False)"
   ]
  },
  {
   "cell_type": "code",
   "execution_count": 16,
   "metadata": {},
   "outputs": [],
   "source": [
    "# Create csv\n",
    "y_dev_test.to_csv(path_data + 'val_y.csv', index=False)"
   ]
  },
  {
   "cell_type": "code",
   "execution_count": 17,
   "metadata": {},
   "outputs": [],
   "source": [
    "# Create csv\n",
    "df_mess_test.to_csv(path_data + 'test_X.csv', index=False)"
   ]
  }
 ],
 "metadata": {
  "kernelspec": {
   "display_name": "Python 3",
   "language": "python",
   "name": "python3"
  },
  "language_info": {
   "codemirror_mode": {
    "name": "ipython",
    "version": 3
   },
   "file_extension": ".py",
   "mimetype": "text/x-python",
   "name": "python",
   "nbconvert_exporter": "python",
   "pygments_lexer": "ipython3",
   "version": "3.6.3"
  }
 },
 "nbformat": 4,
 "nbformat_minor": 1
}
