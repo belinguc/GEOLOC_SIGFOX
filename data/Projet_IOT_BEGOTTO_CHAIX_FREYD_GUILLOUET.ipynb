{
 "cells": [
  {
   "cell_type": "markdown",
   "metadata": {},
   "source": [
    "# <center> Projet IOT : Géolocalisation d'appareil connecté <center>"
   ]
  },
  {
   "cell_type": "markdown",
   "metadata": {},
   "source": [
    "**Attention :** Ce travail a été réalisé en python 3. et avec scikit-learn 0.18.1"
   ]
  },
  {
   "cell_type": "code",
   "execution_count": 1,
   "metadata": {
    "collapsed": false
   },
   "outputs": [],
   "source": [
    "%matplotlib inline\n",
    "import numpy as np\n",
    "import pandas as pd\n",
    "import matplotlib.pyplot as plt\n",
    "import math\n",
    "from geopy.distance import vincenty\n",
    "from scipy import stats\n",
    "plt.style.use('ggplot')"
   ]
  },
  {
   "cell_type": "code",
   "execution_count": 2,
   "metadata": {
    "collapsed": true
   },
   "outputs": [],
   "source": [
    "def vincenty_vec(vec_coord):\n",
    "    vin_vec_dist = np.zeros(vec_coord.shape[0])\n",
    "    if vec_coord.shape[1] !=  4:\n",
    "        print('ERROR: Bad number of columns (shall be = 4)')\n",
    "    else:\n",
    "        vin_vec_dist = [vincenty(vec_coord[m,0:2],vec_coord[m,2:]).meters for m in range(vec_coord.shape[0])]\n",
    "    return vin_vec_dist\n",
    "\n",
    "# evaluate distance error for each predicted point\n",
    "def Eval_geoloc(y_train_lat , y_train_lng, y_pred_lat, y_pred_lng):\n",
    "    vec_coord = np.array([y_train_lat , y_train_lng, y_pred_lat, y_pred_lng])\n",
    "    err_vec = vincenty_vec(np.transpose(vec_coord))\n",
    "    \n",
    "    return err_vec"
   ]
  },
  {
   "cell_type": "markdown",
   "metadata": {},
   "source": [
    "## Importation des données"
   ]
  },
  {
   "cell_type": "code",
   "execution_count": 3,
   "metadata": {
    "collapsed": false
   },
   "outputs": [],
   "source": [
    "# load train and test data\n",
    "df_mess_train = pd.read_csv('mess_train_list.csv') # train set\n",
    "df_mess_test_to_submit = pd.read_csv('mess_test_list.csv') # test set\n",
    "pos_train = pd.read_csv('pos_train_list.csv') # position associated to train set"
   ]
  },
  {
   "cell_type": "code",
   "execution_count": 4,
   "metadata": {
    "collapsed": false
   },
   "outputs": [
    {
     "data": {
      "text/html": [
       "<div>\n",
       "<table border=\"1\" class=\"dataframe\">\n",
       "  <thead>\n",
       "    <tr style=\"text-align: right;\">\n",
       "      <th></th>\n",
       "      <th>objid</th>\n",
       "      <th>bsid</th>\n",
       "      <th>did</th>\n",
       "      <th>nseq</th>\n",
       "      <th>rssi</th>\n",
       "      <th>time_ux</th>\n",
       "      <th>bs_lat</th>\n",
       "      <th>bs_lng</th>\n",
       "    </tr>\n",
       "  </thead>\n",
       "  <tbody>\n",
       "    <tr>\n",
       "      <th>0</th>\n",
       "      <td>573bf1d9864fce1a9af8c5c9</td>\n",
       "      <td>2841</td>\n",
       "      <td>473335.0</td>\n",
       "      <td>0.5</td>\n",
       "      <td>-121.5</td>\n",
       "      <td>1.463546e+12</td>\n",
       "      <td>39.617794</td>\n",
       "      <td>-104.954917</td>\n",
       "    </tr>\n",
       "    <tr>\n",
       "      <th>1</th>\n",
       "      <td>573bf1d9864fce1a9af8c5c9</td>\n",
       "      <td>3526</td>\n",
       "      <td>473335.0</td>\n",
       "      <td>2.0</td>\n",
       "      <td>-125.0</td>\n",
       "      <td>1.463546e+12</td>\n",
       "      <td>39.677251</td>\n",
       "      <td>-104.952721</td>\n",
       "    </tr>\n",
       "    <tr>\n",
       "      <th>2</th>\n",
       "      <td>573bf3533e952e19126b256a</td>\n",
       "      <td>2605</td>\n",
       "      <td>473335.0</td>\n",
       "      <td>1.0</td>\n",
       "      <td>-134.0</td>\n",
       "      <td>1.463547e+12</td>\n",
       "      <td>39.612745</td>\n",
       "      <td>-105.008827</td>\n",
       "    </tr>\n",
       "    <tr>\n",
       "      <th>3</th>\n",
       "      <td>573c0cd0f0fe6e735a699b93</td>\n",
       "      <td>2610</td>\n",
       "      <td>473953.0</td>\n",
       "      <td>2.0</td>\n",
       "      <td>-132.0</td>\n",
       "      <td>1.463553e+12</td>\n",
       "      <td>39.797969</td>\n",
       "      <td>-105.073460</td>\n",
       "    </tr>\n",
       "    <tr>\n",
       "      <th>4</th>\n",
       "      <td>573c0cd0f0fe6e735a699b93</td>\n",
       "      <td>3574</td>\n",
       "      <td>473953.0</td>\n",
       "      <td>1.0</td>\n",
       "      <td>-120.0</td>\n",
       "      <td>1.463553e+12</td>\n",
       "      <td>39.723151</td>\n",
       "      <td>-104.956216</td>\n",
       "    </tr>\n",
       "  </tbody>\n",
       "</table>\n",
       "</div>"
      ],
      "text/plain": [
       "                      objid  bsid       did  nseq   rssi       time_ux  \\\n",
       "0  573bf1d9864fce1a9af8c5c9  2841  473335.0   0.5 -121.5  1.463546e+12   \n",
       "1  573bf1d9864fce1a9af8c5c9  3526  473335.0   2.0 -125.0  1.463546e+12   \n",
       "2  573bf3533e952e19126b256a  2605  473335.0   1.0 -134.0  1.463547e+12   \n",
       "3  573c0cd0f0fe6e735a699b93  2610  473953.0   2.0 -132.0  1.463553e+12   \n",
       "4  573c0cd0f0fe6e735a699b93  3574  473953.0   1.0 -120.0  1.463553e+12   \n",
       "\n",
       "      bs_lat      bs_lng  \n",
       "0  39.617794 -104.954917  \n",
       "1  39.677251 -104.952721  \n",
       "2  39.612745 -105.008827  \n",
       "3  39.797969 -105.073460  \n",
       "4  39.723151 -104.956216  "
      ]
     },
     "execution_count": 4,
     "metadata": {},
     "output_type": "execute_result"
    }
   ],
   "source": [
    "df_mess_train.head()"
   ]
  },
  {
   "cell_type": "code",
   "execution_count": 5,
   "metadata": {
    "collapsed": false
   },
   "outputs": [
    {
     "data": {
      "text/html": [
       "<div>\n",
       "<table border=\"1\" class=\"dataframe\">\n",
       "  <thead>\n",
       "    <tr style=\"text-align: right;\">\n",
       "      <th></th>\n",
       "      <th>lat</th>\n",
       "      <th>lng</th>\n",
       "    </tr>\n",
       "  </thead>\n",
       "  <tbody>\n",
       "    <tr>\n",
       "      <th>0</th>\n",
       "      <td>39.60669</td>\n",
       "      <td>-104.95849</td>\n",
       "    </tr>\n",
       "    <tr>\n",
       "      <th>1</th>\n",
       "      <td>39.60669</td>\n",
       "      <td>-104.95849</td>\n",
       "    </tr>\n",
       "  </tbody>\n",
       "</table>\n",
       "</div>"
      ],
      "text/plain": [
       "        lat        lng\n",
       "0  39.60669 -104.95849\n",
       "1  39.60669 -104.95849"
      ]
     },
     "execution_count": 5,
     "metadata": {},
     "output_type": "execute_result"
    }
   ],
   "source": [
    "pos_train.head(2)"
   ]
  },
  {
   "cell_type": "markdown",
   "metadata": {},
   "source": [
    "## Investigation des données"
   ]
  },
  {
   "cell_type": "code",
   "execution_count": 6,
   "metadata": {
    "collapsed": false
   },
   "outputs": [
    {
     "data": {
      "text/html": [
       "<div>\n",
       "<table border=\"1\" class=\"dataframe\">\n",
       "  <thead>\n",
       "    <tr style=\"text-align: right;\">\n",
       "      <th></th>\n",
       "      <th>bsid</th>\n",
       "      <th>did</th>\n",
       "      <th>nseq</th>\n",
       "      <th>rssi</th>\n",
       "      <th>time_ux</th>\n",
       "      <th>bs_lat</th>\n",
       "      <th>bs_lng</th>\n",
       "    </tr>\n",
       "  </thead>\n",
       "  <tbody>\n",
       "    <tr>\n",
       "      <th>count</th>\n",
       "      <td>39250.000000</td>\n",
       "      <td>3.925000e+04</td>\n",
       "      <td>39250.000000</td>\n",
       "      <td>39250.000000</td>\n",
       "      <td>3.925000e+04</td>\n",
       "      <td>39250.000000</td>\n",
       "      <td>39250.000000</td>\n",
       "    </tr>\n",
       "    <tr>\n",
       "      <th>mean</th>\n",
       "      <td>4533.774752</td>\n",
       "      <td>4.835932e+05</td>\n",
       "      <td>1.043541</td>\n",
       "      <td>-125.863580</td>\n",
       "      <td>1.473368e+12</td>\n",
       "      <td>42.554998</td>\n",
       "      <td>-100.969685</td>\n",
       "    </tr>\n",
       "    <tr>\n",
       "      <th>std</th>\n",
       "      <td>2570.495638</td>\n",
       "      <td>9.893140e+04</td>\n",
       "      <td>0.563540</td>\n",
       "      <td>9.226500</td>\n",
       "      <td>5.506910e+09</td>\n",
       "      <td>7.722787</td>\n",
       "      <td>11.522732</td>\n",
       "    </tr>\n",
       "    <tr>\n",
       "      <th>min</th>\n",
       "      <td>879.000000</td>\n",
       "      <td>4.732880e+05</td>\n",
       "      <td>0.000000</td>\n",
       "      <td>-155.000000</td>\n",
       "      <td>1.463546e+12</td>\n",
       "      <td>36.053394</td>\n",
       "      <td>-107.463146</td>\n",
       "    </tr>\n",
       "    <tr>\n",
       "      <th>25%</th>\n",
       "      <td>2790.000000</td>\n",
       "      <td>4.761230e+05</td>\n",
       "      <td>1.000000</td>\n",
       "      <td>-132.500000</td>\n",
       "      <td>1.468410e+12</td>\n",
       "      <td>39.747448</td>\n",
       "      <td>-105.074287</td>\n",
       "    </tr>\n",
       "    <tr>\n",
       "      <th>50%</th>\n",
       "      <td>3559.000000</td>\n",
       "      <td>4.763150e+05</td>\n",
       "      <td>1.000000</td>\n",
       "      <td>-127.333333</td>\n",
       "      <td>1.473444e+12</td>\n",
       "      <td>39.793585</td>\n",
       "      <td>-105.043685</td>\n",
       "    </tr>\n",
       "    <tr>\n",
       "      <th>75%</th>\n",
       "      <td>7456.000000</td>\n",
       "      <td>4.766090e+05</td>\n",
       "      <td>1.500000</td>\n",
       "      <td>-121.000000</td>\n",
       "      <td>1.479118e+12</td>\n",
       "      <td>39.838740</td>\n",
       "      <td>-104.998429</td>\n",
       "    </tr>\n",
       "    <tr>\n",
       "      <th>max</th>\n",
       "      <td>11951.000000</td>\n",
       "      <td>1.747448e+06</td>\n",
       "      <td>2.000000</td>\n",
       "      <td>-64.000000</td>\n",
       "      <td>1.481143e+12</td>\n",
       "      <td>64.300000</td>\n",
       "      <td>-68.500000</td>\n",
       "    </tr>\n",
       "  </tbody>\n",
       "</table>\n",
       "</div>"
      ],
      "text/plain": [
       "               bsid           did          nseq          rssi       time_ux  \\\n",
       "count  39250.000000  3.925000e+04  39250.000000  39250.000000  3.925000e+04   \n",
       "mean    4533.774752  4.835932e+05      1.043541   -125.863580  1.473368e+12   \n",
       "std     2570.495638  9.893140e+04      0.563540      9.226500  5.506910e+09   \n",
       "min      879.000000  4.732880e+05      0.000000   -155.000000  1.463546e+12   \n",
       "25%     2790.000000  4.761230e+05      1.000000   -132.500000  1.468410e+12   \n",
       "50%     3559.000000  4.763150e+05      1.000000   -127.333333  1.473444e+12   \n",
       "75%     7456.000000  4.766090e+05      1.500000   -121.000000  1.479118e+12   \n",
       "max    11951.000000  1.747448e+06      2.000000    -64.000000  1.481143e+12   \n",
       "\n",
       "             bs_lat        bs_lng  \n",
       "count  39250.000000  39250.000000  \n",
       "mean      42.554998   -100.969685  \n",
       "std        7.722787     11.522732  \n",
       "min       36.053394   -107.463146  \n",
       "25%       39.747448   -105.074287  \n",
       "50%       39.793585   -105.043685  \n",
       "75%       39.838740   -104.998429  \n",
       "max       64.300000    -68.500000  "
      ]
     },
     "execution_count": 6,
     "metadata": {},
     "output_type": "execute_result"
    }
   ],
   "source": [
    "df_mess_train.describe()"
   ]
  },
  {
   "cell_type": "code",
   "execution_count": 7,
   "metadata": {
    "collapsed": false
   },
   "outputs": [
    {
     "data": {
      "text/html": [
       "<div>\n",
       "<table border=\"1\" class=\"dataframe\">\n",
       "  <thead>\n",
       "    <tr style=\"text-align: right;\">\n",
       "      <th></th>\n",
       "      <th>lat</th>\n",
       "      <th>lng</th>\n",
       "    </tr>\n",
       "  </thead>\n",
       "  <tbody>\n",
       "    <tr>\n",
       "      <th>count</th>\n",
       "      <td>39250.000000</td>\n",
       "      <td>39250.000000</td>\n",
       "    </tr>\n",
       "    <tr>\n",
       "      <th>mean</th>\n",
       "      <td>39.783333</td>\n",
       "      <td>-105.056343</td>\n",
       "    </tr>\n",
       "    <tr>\n",
       "      <th>std</th>\n",
       "      <td>0.206262</td>\n",
       "      <td>0.162954</td>\n",
       "    </tr>\n",
       "    <tr>\n",
       "      <th>min</th>\n",
       "      <td>35.770683</td>\n",
       "      <td>-107.630679</td>\n",
       "    </tr>\n",
       "    <tr>\n",
       "      <th>25%</th>\n",
       "      <td>39.708599</td>\n",
       "      <td>-105.060463</td>\n",
       "    </tr>\n",
       "    <tr>\n",
       "      <th>50%</th>\n",
       "      <td>39.776882</td>\n",
       "      <td>-105.039440</td>\n",
       "    </tr>\n",
       "    <tr>\n",
       "      <th>75%</th>\n",
       "      <td>39.805279</td>\n",
       "      <td>-105.018730</td>\n",
       "    </tr>\n",
       "    <tr>\n",
       "      <th>max</th>\n",
       "      <td>43.140387</td>\n",
       "      <td>-102.094289</td>\n",
       "    </tr>\n",
       "  </tbody>\n",
       "</table>\n",
       "</div>"
      ],
      "text/plain": [
       "                lat           lng\n",
       "count  39250.000000  39250.000000\n",
       "mean      39.783333   -105.056343\n",
       "std        0.206262      0.162954\n",
       "min       35.770683   -107.630679\n",
       "25%       39.708599   -105.060463\n",
       "50%       39.776882   -105.039440\n",
       "75%       39.805279   -105.018730\n",
       "max       43.140387   -102.094289"
      ]
     },
     "execution_count": 7,
     "metadata": {},
     "output_type": "execute_result"
    }
   ],
   "source": [
    "pos_train.describe()"
   ]
  },
  {
   "cell_type": "markdown",
   "metadata": {},
   "source": [
    "Afin d'observer les données spatialement, il est nécessaire de déterminer les distances parcourues par les signaux, i.e. entre les balises et les devices. L'histogramme ci-dessous permet de se rendre compte de la dispersion de ces distances."
   ]
  },
  {
   "cell_type": "code",
   "execution_count": 8,
   "metadata": {
    "collapsed": false
   },
   "outputs": [],
   "source": [
    "df_mess_train[\"distance_to_bsid\"] = Eval_geoloc(pos_train.ix[:,0], pos_train.ix[:,1],\\\n",
    "                                            df_mess_train.ix[:,6], df_mess_train.ix[:,7] )"
   ]
  },
  {
   "cell_type": "code",
   "execution_count": 9,
   "metadata": {
    "collapsed": false
   },
   "outputs": [
    {
     "data": {
      "text/plain": [
       "array([ 8355, 11007,  1594, 10151, 10162,  8451,  4993,  8560,  2293,\n",
       "        4959, 10999,  1661,  8449,  4156,  4129,  1743,  4987,  1772,\n",
       "        1796,  2707,  2943,  4123, 11951,  9784,  1092,  3848,  2803,\n",
       "        2808,  3630,  2800,  3933,  3501,  4013,  1443,  1854,  7248], dtype=int64)"
      ]
     },
     "execution_count": 9,
     "metadata": {},
     "output_type": "execute_result"
    }
   ],
   "source": [
    "df_mess_train[df_mess_train[\"distance_to_bsid\"] > 400000]['bsid'].unique()"
   ]
  },
  {
   "cell_type": "code",
   "execution_count": 10,
   "metadata": {
    "collapsed": false
   },
   "outputs": [
    {
     "data": {
      "image/png": "[encoded data removed]",
      "text/plain": [
       "<matplotlib.figure.Figure at 0x123ef2762e8>"
      ]
     },
     "metadata": {},
     "output_type": "display_data"
    }
   ],
   "source": [
    "# Plot\n",
    "X_axis_values = np.linspace(0, 1, 500)\n",
    "kernel = stats.gaussian_kde(list(df_mess_train[\"distance_to_bsid\"]))\n",
    "fig = plt.figure(figsize=(8, 6))\n",
    "plt.xlabel(\"Distance message-station (m)\")\n",
    "plt.ylabel(\"Frequency\")\n",
    "plt.title(\"Distributon of all data\")\n",
    "plt.hist(df_mess_train[\"distance_to_bsid\"], bins=50, normed=True, color='r')\n",
    "plt.plot(X_axis_values, kernel(X_axis_values), color='b', label='Distribution of all values')\n",
    "plt.legend(fontsize='11')\n",
    "plt.show()"
   ]
  },
  {
   "cell_type": "markdown",
   "metadata": {},
   "source": [
    "Il y a 3 groupes très distincts au sein de la population initiale. La majorité des signaux sont perçus à une faible distance, inférieure à ~30km. Quelques signaux sont perçus à une distance d'environ 500km. Enfin, un nombre non négligeable de signaux sont perçus à plus de 3500 km par une ou plusieurs balises. Nous supposons qu'il s'agit de dispositifs utilisant des réseaux VPN. Par la suite, les données des deux derniers groupes sont écartéss car considérées comme bruit / valeurs aberrantes."
   ]
  },
  {
   "cell_type": "code",
   "execution_count": 11,
   "metadata": {
    "collapsed": false
   },
   "outputs": [
    {
     "data": {
      "image/png": "[encoded data removed]",
      "text/plain": [
       "<matplotlib.figure.Figure at 0x123ef276390>"
      ]
     },
     "metadata": {},
     "output_type": "display_data"
    }
   ],
   "source": [
    "# Plot\n",
    "X_axis_values = np.linspace(0,50000, 5000)\n",
    "kernel = stats.gaussian_kde(list(df_mess_train[df_mess_train[\"distance_to_bsid\"] <= 400000][\"distance_to_bsid\"]))\n",
    "fig = plt.figure(figsize=(8, 6))\n",
    "plt.xlabel(\"Distance message-station (m)\")\n",
    "plt.ylabel(\"Frequency\")\n",
    "plt.xlim(0,50000)\n",
    "plt.title(\"Distribution of cleaned data\")\n",
    "plt.hist(df_mess_train[df_mess_train[\"distance_to_bsid\"] <= 400000][\"distance_to_bsid\"], bins=150, normed=True, color='r')\n",
    "plt.plot(X_axis_values, kernel(X_axis_values), color='b', label='Distribution of cleaned data')\n",
    "plt.legend(fontsize='11')\n",
    "plt.show()"
   ]
  },
  {
   "cell_type": "markdown",
   "metadata": {},
   "source": [
    "Après avoir écarté les données concernant certains messages reçus sur des balises supposées trop lointaines (à plus de 400 km de distance), la distribution semble suffisamment épurée pour procéder à la suite de l'étude."
   ]
  },
  {
   "cell_type": "code",
   "execution_count": 12,
   "metadata": {
    "collapsed": false
   },
   "outputs": [
    {
     "data": {
      "image/png": "[encoded data removed]",
      "text/plain": [
       "<matplotlib.figure.Figure at 0x123eff3f898>"
      ]
     },
     "metadata": {},
     "output_type": "display_data"
    }
   ],
   "source": [
    "# Plot\n",
    "X_axis_values = np.linspace(3400000, 3800000, 5000)\n",
    "kernel = stats.gaussian_kde(list(df_mess_train[df_mess_train[\"distance_to_bsid\"] >= 3550000][\"distance_to_bsid\"]))\n",
    "fig = plt.figure(figsize=(8, 6))\n",
    "plt.xlabel(\"Distance message-station (m)\")\n",
    "plt.ylabel(\"Frequency\")\n",
    "plt.xlim(3550000,3650000)\n",
    "plt.ylim(0,0.0003)\n",
    "plt.title(\"Distributon of extracted data\")\n",
    "plt.hist(df_mess_train[df_mess_train[\"distance_to_bsid\"] >= 3550000][\"distance_to_bsid\"], bins=25, normed=True, color='r')\n",
    "plt.plot(X_axis_values, kernel(X_axis_values), color='b', label='Distribution of extracted values')\n",
    "plt.legend(fontsize='11')\n",
    "plt.show()"
   ]
  },
  {
   "cell_type": "markdown",
   "metadata": {},
   "source": [
    "L'histogramme ci-dessus représente le second groupe résiduel (message reçue à 3500 km par une balise). Il semble que ces données soient liées à plusieurs balises situées aux coordonnées (64.3°N, 68.5°W) soit dans le grand nord canadien."
   ]
  },
  {
   "cell_type": "code",
   "execution_count": 13,
   "metadata": {
    "collapsed": false
   },
   "outputs": [
    {
     "name": "stdout",
     "output_type": "stream",
     "text": [
      "Il y a 244 balises réceptrices au total dont 215 en entraînement et 168 en test.\n"
     ]
    }
   ],
   "source": [
    "# determine all Base stations that received at least 1 message\n",
    "listOfBs = np.union1d(np.unique(df_mess_train[df_mess_train[\"distance_to_bsid\"] <= 400000]['bsid']), np.unique(df_mess_test_to_submit['bsid']))\n",
    "print(\"Il y a \" + str(len(listOfBs)) + \" balises réceptrices au total dont \" + \\\n",
    "      str(len(np.unique(df_mess_train[df_mess_train[\"distance_to_bsid\"] <= 400000]['bsid']))) + \" en entraînement et \" +\\\n",
    "      str(len(np.unique(df_mess_test_to_submit['bsid']))) + \" en test.\")"
   ]
  },
  {
   "cell_type": "markdown",
   "metadata": {},
   "source": [
    "## Pré-processing"
   ]
  },
  {
   "cell_type": "markdown",
   "metadata": {},
   "source": [
    "Plusieurs pistes sont possibles pour établir une matrice de features sur laquelle entraîner un algorithme:\n",
    "* mettre 1 si une station a reçu un signal (0 sinon)\n",
    "* utiliser le RSSI reçu par la station si la station a reçu un signal (une valeur très faible sinon)\n",
    "* utiliser la puissance reçue si la station a reçu un signal (une valeur très faible sinon)\n",
    "\n",
    "La 2eme option a été choisie ici."
   ]
  },
  {
   "cell_type": "code",
   "execution_count": 14,
   "metadata": {
    "collapsed": false
   },
   "outputs": [],
   "source": [
    "# Feature Matrix construction \n",
    "def feat_mat_const(df_mess_train, df_mess_test):\n",
    "    \n",
    "    # Utiliser le RSSI reçu par la station si la station a reçu un signal, 0 sinon\n",
    "    df_mess_train[\"Feature\"] = df_mess_train[\"rssi\"]\n",
    "    df_mess_test[\"Feature\"] = df_mess_test[\"rssi\"]\n",
    "    \n",
    "    # On concatène train et test : l'idée est d'avoir toutes les bsid dans un jeu de données\n",
    "    df_total = pd.concat([df_mess_train, df_mess_test])\n",
    "    \n",
    "    # On fait un tableau croisé dynamique avec en ligne les messageid et en colonne les bsid\n",
    "    df_total_pivot = df_total.pivot(index = \"objid\", columns = \"bsid\", values = \"Feature\")\n",
    "        \n",
    "    # On remplace les NaN par 0\n",
    "    df_total_pivot[df_total_pivot.isnull()] = -300\n",
    "    \n",
    "    # On enlève les lignes (objid) correspondant au jeu de test\n",
    "    # On pourrait probablement faire plus rapidement\n",
    "    \n",
    "    df_total_pivot_train = df_total_pivot.loc[df_mess_train['objid'].unique()]\n",
    "    df_total_pivot_test = df_total_pivot.loc[df_mess_test['objid'].unique()]\n",
    "    \n",
    "    return df_total_pivot_train, df_total_pivot_test"
   ]
  },
  {
   "cell_type": "code",
   "execution_count": 15,
   "metadata": {
    "collapsed": false
   },
   "outputs": [],
   "source": [
    "# ground truth construction\n",
    "\n",
    "def ground_truth_const(df_mess_train, pos_train):\n",
    "    \n",
    "    res = pd.concat([df_mess_train.objid, pos_train], axis = 1).drop_duplicates()\n",
    "    res.set_index(np.arange(0, len(res)))\n",
    "    res.columns = (\"objid\", \"lat\", \"lng\")\n",
    "    \n",
    "    return res.lat, res.lng"
   ]
  },
  {
   "cell_type": "code",
   "execution_count": 16,
   "metadata": {
    "collapsed": false
   },
   "outputs": [
    {
     "name": "stderr",
     "output_type": "stream",
     "text": [
      "C:\\Users\\Greg\\Anaconda3\\lib\\site-packages\\ipykernel\\__main__.py:5: SettingWithCopyWarning: \n",
      "A value is trying to be set on a copy of a slice from a DataFrame.\n",
      "Try using .loc[row_indexer,col_indexer] = value instead\n",
      "\n",
      "See the caveats in the documentation: http://pandas.pydata.org/pandas-docs/stable/indexing.html#indexing-view-versus-copy\n"
     ]
    },
    {
     "name": "stdout",
     "output_type": "stream",
     "text": [
      "dimension matrice de features : (5871, 244)\n",
      "dimension matrice de test à soumettre : (5294, 244)\n"
     ]
    }
   ],
   "source": [
    "df_mess_train_clean = df_mess_train[df_mess_train[\"distance_to_bsid\"] <= 400000]\n",
    "pos_train_clean = pos_train.ix[np.where(df_mess_train[\"distance_to_bsid\"] <= 400000)[0],:]\n",
    "\n",
    "df_feat_train, df_feat_test_to_submit = feat_mat_const(df_mess_train_clean, df_mess_test_to_submit)\n",
    "print(\"dimension matrice de features : \" + str(df_feat_train.shape))\n",
    "print(\"dimension matrice de test à soumettre : \" + str(df_feat_test_to_submit.shape))"
   ]
  },
  {
   "cell_type": "code",
   "execution_count": 17,
   "metadata": {
    "collapsed": false
   },
   "outputs": [
    {
     "data": {
      "text/html": [
       "<div>\n",
       "<table border=\"1\" class=\"dataframe\">\n",
       "  <thead>\n",
       "    <tr style=\"text-align: right;\">\n",
       "      <th>bsid</th>\n",
       "      <th>879</th>\n",
       "      <th>911</th>\n",
       "      <th>921</th>\n",
       "      <th>944</th>\n",
       "      <th>980</th>\n",
       "      <th>1012</th>\n",
       "      <th>1086</th>\n",
       "      <th>1092</th>\n",
       "      <th>1120</th>\n",
       "      <th>1131</th>\n",
       "      <th>...</th>\n",
       "      <th>9783</th>\n",
       "      <th>9899</th>\n",
       "      <th>9936</th>\n",
       "      <th>9941</th>\n",
       "      <th>9949</th>\n",
       "      <th>10134</th>\n",
       "      <th>10148</th>\n",
       "      <th>10151</th>\n",
       "      <th>10162</th>\n",
       "      <th>11007</th>\n",
       "    </tr>\n",
       "    <tr>\n",
       "      <th>objid</th>\n",
       "      <th></th>\n",
       "      <th></th>\n",
       "      <th></th>\n",
       "      <th></th>\n",
       "      <th></th>\n",
       "      <th></th>\n",
       "      <th></th>\n",
       "      <th></th>\n",
       "      <th></th>\n",
       "      <th></th>\n",
       "      <th></th>\n",
       "      <th></th>\n",
       "      <th></th>\n",
       "      <th></th>\n",
       "      <th></th>\n",
       "      <th></th>\n",
       "      <th></th>\n",
       "      <th></th>\n",
       "      <th></th>\n",
       "      <th></th>\n",
       "      <th></th>\n",
       "    </tr>\n",
       "  </thead>\n",
       "  <tbody>\n",
       "    <tr>\n",
       "      <th>573bf1d9864fce1a9af8c5c9</th>\n",
       "      <td>-300.0</td>\n",
       "      <td>-300.0</td>\n",
       "      <td>-300.0</td>\n",
       "      <td>-300.0</td>\n",
       "      <td>-300.0</td>\n",
       "      <td>-300.0</td>\n",
       "      <td>-300.0</td>\n",
       "      <td>-300.0</td>\n",
       "      <td>-300.0</td>\n",
       "      <td>-300.0</td>\n",
       "      <td>...</td>\n",
       "      <td>-300.0</td>\n",
       "      <td>-300.0</td>\n",
       "      <td>-300.0</td>\n",
       "      <td>-300.0</td>\n",
       "      <td>-300.0</td>\n",
       "      <td>-300.0</td>\n",
       "      <td>-300.0</td>\n",
       "      <td>-300.0</td>\n",
       "      <td>-300.0</td>\n",
       "      <td>-300.0</td>\n",
       "    </tr>\n",
       "    <tr>\n",
       "      <th>573bf3533e952e19126b256a</th>\n",
       "      <td>-300.0</td>\n",
       "      <td>-300.0</td>\n",
       "      <td>-300.0</td>\n",
       "      <td>-300.0</td>\n",
       "      <td>-300.0</td>\n",
       "      <td>-300.0</td>\n",
       "      <td>-300.0</td>\n",
       "      <td>-300.0</td>\n",
       "      <td>-300.0</td>\n",
       "      <td>-300.0</td>\n",
       "      <td>...</td>\n",
       "      <td>-300.0</td>\n",
       "      <td>-300.0</td>\n",
       "      <td>-300.0</td>\n",
       "      <td>-300.0</td>\n",
       "      <td>-300.0</td>\n",
       "      <td>-300.0</td>\n",
       "      <td>-300.0</td>\n",
       "      <td>-300.0</td>\n",
       "      <td>-300.0</td>\n",
       "      <td>-300.0</td>\n",
       "    </tr>\n",
       "    <tr>\n",
       "      <th>573c0cd0f0fe6e735a699b93</th>\n",
       "      <td>-300.0</td>\n",
       "      <td>-300.0</td>\n",
       "      <td>-300.0</td>\n",
       "      <td>-300.0</td>\n",
       "      <td>-300.0</td>\n",
       "      <td>-300.0</td>\n",
       "      <td>-300.0</td>\n",
       "      <td>-300.0</td>\n",
       "      <td>-300.0</td>\n",
       "      <td>-300.0</td>\n",
       "      <td>...</td>\n",
       "      <td>-300.0</td>\n",
       "      <td>-300.0</td>\n",
       "      <td>-300.0</td>\n",
       "      <td>-300.0</td>\n",
       "      <td>-300.0</td>\n",
       "      <td>-300.0</td>\n",
       "      <td>-300.0</td>\n",
       "      <td>-300.0</td>\n",
       "      <td>-300.0</td>\n",
       "      <td>-300.0</td>\n",
       "    </tr>\n",
       "    <tr>\n",
       "      <th>573c1272f0fe6e735a6cb8bd</th>\n",
       "      <td>-300.0</td>\n",
       "      <td>-300.0</td>\n",
       "      <td>-300.0</td>\n",
       "      <td>-300.0</td>\n",
       "      <td>-300.0</td>\n",
       "      <td>-300.0</td>\n",
       "      <td>-300.0</td>\n",
       "      <td>-300.0</td>\n",
       "      <td>-300.0</td>\n",
       "      <td>-300.0</td>\n",
       "      <td>...</td>\n",
       "      <td>-300.0</td>\n",
       "      <td>-300.0</td>\n",
       "      <td>-300.0</td>\n",
       "      <td>-300.0</td>\n",
       "      <td>-300.0</td>\n",
       "      <td>-300.0</td>\n",
       "      <td>-300.0</td>\n",
       "      <td>-300.0</td>\n",
       "      <td>-300.0</td>\n",
       "      <td>-300.0</td>\n",
       "    </tr>\n",
       "    <tr>\n",
       "      <th>573c8ea8864fce1a9a5fbf7a</th>\n",
       "      <td>-300.0</td>\n",
       "      <td>-300.0</td>\n",
       "      <td>-300.0</td>\n",
       "      <td>-300.0</td>\n",
       "      <td>-300.0</td>\n",
       "      <td>-300.0</td>\n",
       "      <td>-141.0</td>\n",
       "      <td>-300.0</td>\n",
       "      <td>-300.0</td>\n",
       "      <td>-300.0</td>\n",
       "      <td>...</td>\n",
       "      <td>-300.0</td>\n",
       "      <td>-129.0</td>\n",
       "      <td>-300.0</td>\n",
       "      <td>-300.0</td>\n",
       "      <td>-300.0</td>\n",
       "      <td>-300.0</td>\n",
       "      <td>-300.0</td>\n",
       "      <td>-300.0</td>\n",
       "      <td>-300.0</td>\n",
       "      <td>-300.0</td>\n",
       "    </tr>\n",
       "  </tbody>\n",
       "</table>\n",
       "<p>5 rows × 244 columns</p>\n",
       "</div>"
      ],
      "text/plain": [
       "bsid                      879    911    921    944    980    1012   1086   \\\n",
       "objid                                                                       \n",
       "573bf1d9864fce1a9af8c5c9 -300.0 -300.0 -300.0 -300.0 -300.0 -300.0 -300.0   \n",
       "573bf3533e952e19126b256a -300.0 -300.0 -300.0 -300.0 -300.0 -300.0 -300.0   \n",
       "573c0cd0f0fe6e735a699b93 -300.0 -300.0 -300.0 -300.0 -300.0 -300.0 -300.0   \n",
       "573c1272f0fe6e735a6cb8bd -300.0 -300.0 -300.0 -300.0 -300.0 -300.0 -300.0   \n",
       "573c8ea8864fce1a9a5fbf7a -300.0 -300.0 -300.0 -300.0 -300.0 -300.0 -141.0   \n",
       "\n",
       "bsid                      1092   1120   1131   ...    9783   9899   9936   \\\n",
       "objid                                          ...                          \n",
       "573bf1d9864fce1a9af8c5c9 -300.0 -300.0 -300.0  ...   -300.0 -300.0 -300.0   \n",
       "573bf3533e952e19126b256a -300.0 -300.0 -300.0  ...   -300.0 -300.0 -300.0   \n",
       "573c0cd0f0fe6e735a699b93 -300.0 -300.0 -300.0  ...   -300.0 -300.0 -300.0   \n",
       "573c1272f0fe6e735a6cb8bd -300.0 -300.0 -300.0  ...   -300.0 -300.0 -300.0   \n",
       "573c8ea8864fce1a9a5fbf7a -300.0 -300.0 -300.0  ...   -300.0 -129.0 -300.0   \n",
       "\n",
       "bsid                      9941   9949   10134  10148  10151  10162  11007  \n",
       "objid                                                                      \n",
       "573bf1d9864fce1a9af8c5c9 -300.0 -300.0 -300.0 -300.0 -300.0 -300.0 -300.0  \n",
       "573bf3533e952e19126b256a -300.0 -300.0 -300.0 -300.0 -300.0 -300.0 -300.0  \n",
       "573c0cd0f0fe6e735a699b93 -300.0 -300.0 -300.0 -300.0 -300.0 -300.0 -300.0  \n",
       "573c1272f0fe6e735a6cb8bd -300.0 -300.0 -300.0 -300.0 -300.0 -300.0 -300.0  \n",
       "573c8ea8864fce1a9a5fbf7a -300.0 -300.0 -300.0 -300.0 -300.0 -300.0 -300.0  \n",
       "\n",
       "[5 rows x 244 columns]"
      ]
     },
     "execution_count": 17,
     "metadata": {},
     "output_type": "execute_result"
    }
   ],
   "source": [
    "df_feat_train.head()"
   ]
  },
  {
   "cell_type": "markdown",
   "metadata": {},
   "source": [
    "Il faut également exclure les positions correspondants aux informations qui ont été écartés en raison de la distance entre device et balise."
   ]
  },
  {
   "cell_type": "code",
   "execution_count": 18,
   "metadata": {
    "collapsed": false
   },
   "outputs": [],
   "source": [
    "ground_truth_lat, ground_truth_lng = ground_truth_const(df_mess_train_clean, pos_train_clean)"
   ]
  },
  {
   "cell_type": "code",
   "execution_count": 19,
   "metadata": {
    "collapsed": false
   },
   "outputs": [
    {
     "name": "stdout",
     "output_type": "stream",
     "text": [
      "dimension du vecteur des latitudes : (5871,)\n"
     ]
    }
   ],
   "source": [
    "print(\"dimension du vecteur des latitudes : \" + str(ground_truth_lat.shape))"
   ]
  },
  {
   "cell_type": "code",
   "execution_count": 20,
   "metadata": {
    "collapsed": false
   },
   "outputs": [
    {
     "name": "stdout",
     "output_type": "stream",
     "text": [
      "Inertie totale avec 122 composantes conservées : 0.990180362765\n"
     ]
    }
   ],
   "source": [
    "from sklearn.decomposition import PCA\n",
    "\n",
    "nb_composantes_reduction = 122\n",
    "\n",
    "pca = PCA(n_components=nb_composantes_reduction)\n",
    "pca.fit(df_feat_train)\n",
    "\n",
    "print(\"Inertie totale avec \" + str(nb_composantes_reduction) + \" composantes conservées : \" + str(np.sum(pca.explained_variance_ratio_)))"
   ]
  },
  {
   "cell_type": "markdown",
   "metadata": {},
   "source": [
    "On constate qu'il est possible de réduire les dimensions du problèmes à seulement 122 (soit moitié moins) tout en conservant 99% d'information (inertie totale). Ceci permettrait de s'affranchir de certaines dimensions qui interviennent peu ou sont redondantes (balises non sollicitées ou à proximité les unes des aures).\n",
    "Cependant, parmi les balises non utilisées en entraînement, certaines sont sollicitées dans le jeu de test. Il a donc été jugé préférable de ne pas réduire l'espace."
   ]
  },
  {
   "cell_type": "code",
   "execution_count": 21,
   "metadata": {
    "collapsed": true
   },
   "outputs": [],
   "source": [
    "#features = pca.transform(df_feat)"
   ]
  },
  {
   "cell_type": "markdown",
   "metadata": {},
   "source": [
    "Les données ont étés centrées-réduites pour minimiser l'effet des valeurs trop extrêmes."
   ]
  },
  {
   "cell_type": "code",
   "execution_count": 22,
   "metadata": {
    "collapsed": false
   },
   "outputs": [],
   "source": [
    "from sklearn.preprocessing import StandardScaler \n",
    "scaler = StandardScaler()\n",
    "scaler.fit(df_feat_train)\n",
    "\n",
    "df_feat_train = scaler.transform(df_feat_train)\n",
    "df_feat_test_to_submit = scaler.transform(df_feat_test_to_submit)"
   ]
  },
  {
   "cell_type": "markdown",
   "metadata": {},
   "source": [
    "Le jeu d'entrainement à été découpé en 80% réservé à la validation croisée et 20% pour la validation finale."
   ]
  },
  {
   "cell_type": "code",
   "execution_count": 23,
   "metadata": {
    "collapsed": false
   },
   "outputs": [
    {
     "data": {
      "text/plain": [
       "(True, True)"
      ]
     },
     "execution_count": 23,
     "metadata": {},
     "output_type": "execute_result"
    }
   ],
   "source": [
    "from sklearn import model_selection\n",
    "X_train_lat, X_test_lat, y_train_lat, y_test_lat = model_selection.train_test_split(df_feat_train, ground_truth_lat, \\\n",
    "                                                                   train_size = 0.8, test_size=0.2, random_state=7)\n",
    "\n",
    "X_train_lng, X_test_lng, y_train_lng, y_test_lng = model_selection.train_test_split(df_feat_train, ground_truth_lng, \\\n",
    "                                                                   train_size = 0.8, test_size=0.2, random_state=7)\n",
    "\n",
    "#Checking if X_train_lat = X_train_lng and X_test_lat = X_test_lng!\n",
    "(X_train_lat.all() == X_train_lng.all()).all(), (X_test_lat.all() == X_test_lng.all()).all()"
   ]
  },
  {
   "cell_type": "markdown",
   "metadata": {},
   "source": [
    "## Fit d'un modèle"
   ]
  },
  {
   "cell_type": "code",
   "execution_count": 24,
   "metadata": {
    "collapsed": false
   },
   "outputs": [],
   "source": [
    "from sklearn.model_selection import ShuffleSplit\n",
    "from sklearn.model_selection import GridSearchCV\n",
    "from sklearn.svm import SVR\n",
    "\n",
    "# Initializing models\n",
    "svr_lat = SVR()\n",
    "svr_lng = SVR()\n",
    "\n",
    "shufflesplit = ShuffleSplit(n_splits=10, train_size=0.7, test_size=0.3)\n",
    "\n",
    "# Used for a first search via CV to retain best param\n",
    "# param_grid = {'C':[1,10,100], 'epsilon':[0.001,0.0001,0.0005], \\\n",
    "#              'gamma':[0.005,0.01,0.02]}\n",
    "\n",
    "# Use this grid for correction\n",
    "param_grid = {'C':[100], 'epsilon':[0.001], \\\n",
    "              'gamma':[0.005]}\n",
    "\n",
    "modellat = GridSearchCV(estimator=svr_lat, param_grid=param_grid, n_jobs=-1, cv=shufflesplit, verbose=1)\n",
    "modellng = GridSearchCV(estimator=svr_lng, param_grid=param_grid, n_jobs=-1, cv=shufflesplit, verbose=1)"
   ]
  },
  {
   "cell_type": "code",
   "execution_count": 25,
   "metadata": {
    "collapsed": false
   },
   "outputs": [
    {
     "name": "stdout",
     "output_type": "stream",
     "text": [
      "Fitting 10 folds for each of 1 candidates, totalling 10 fits\n"
     ]
    },
    {
     "name": "stderr",
     "output_type": "stream",
     "text": [
      "[Parallel(n_jobs=-1)]: Done  10 out of  10 | elapsed:  3.1min finished\n"
     ]
    }
   ],
   "source": [
    "modellat.fit(X_train_lat, y_train_lat)\n",
    "y_pred_lat = modellat.best_estimator_.predict(X_test_lat)"
   ]
  },
  {
   "cell_type": "code",
   "execution_count": 26,
   "metadata": {
    "collapsed": false
   },
   "outputs": [
    {
     "name": "stdout",
     "output_type": "stream",
     "text": [
      "Fitting 10 folds for each of 1 candidates, totalling 10 fits\n"
     ]
    },
    {
     "name": "stderr",
     "output_type": "stream",
     "text": [
      "[Parallel(n_jobs=-1)]: Done  10 out of  10 | elapsed:  2.9min finished\n"
     ]
    }
   ],
   "source": [
    "modellng.fit(X_train_lng, y_train_lng)\n",
    "y_pred_lng = modellng.best_estimator_.predict(X_test_lng)"
   ]
  },
  {
   "cell_type": "markdown",
   "metadata": {},
   "source": [
    "La prédiction sur le jeu de test permet de valider le modèle et de juger sa précision. La prédiction sur le jeu d'entraînement permet d'attester que l'apprentissage du jeu initial a capturé correctement les données d'entraînement sans sur-apprentissage."
   ]
  },
  {
   "cell_type": "code",
   "execution_count": 27,
   "metadata": {
    "collapsed": false
   },
   "outputs": [],
   "source": [
    "err_vec_test = Eval_geoloc(y_test_lat, y_test_lng, y_pred_lat, y_pred_lng)\n",
    "\n",
    "err_vec_train = Eval_geoloc(y_train_lat, y_train_lng, \\\n",
    "                modellat.best_estimator_.predict(X_train_lat), modellng.best_estimator_.predict(X_train_lng))"
   ]
  },
  {
   "cell_type": "code",
   "execution_count": 28,
   "metadata": {
    "collapsed": false
   },
   "outputs": [
    {
     "data": {
      "text/plain": [
       "<matplotlib.legend.Legend at 0x123efe6e828>"
      ]
     },
     "execution_count": 28,
     "metadata": {},
     "output_type": "execute_result"
    },
    {
     "data": {
      "image/png": "[encoded data removed]",
      "text/plain": [
       "<matplotlib.figure.Figure at 0x123ef1450f0>"
      ]
     },
     "metadata": {},
     "output_type": "display_data"
    }
   ],
   "source": [
    "# Plot error distribution\n",
    "values_test, base_test = np.histogram(err_vec_test, bins=50000)\n",
    "cumulative_test = np.cumsum(values_test)\n",
    "values_train, base_train = np.histogram(err_vec_train, bins=50000)\n",
    "cumulative_train = np.cumsum(values_train)\n",
    "plt.figure();\n",
    "plt.plot(base_test[:-1]/1000, cumulative_test / np.float(np.sum(values_test))  * 100.0, c='blue')\n",
    "plt.plot(base_train[:-1]/1000, cumulative_train / np.float(np.sum(values_train))  * 100.0, c='red')\n",
    "plt.xlabel('Distance Error (km)'); plt.ylabel('Cum proba (%)'); plt.axis([0, 30, 0, 100]); \n",
    "plt.title('Error Cumulative Probability'); plt.legend( [\"Error on test\", \"Error on train\"])"
   ]
  },
  {
   "cell_type": "markdown",
   "metadata": {},
   "source": [
    "On constate que l'erreur à 80% sur le jeu de validation finale reste élevée mais inférieure à celle obtenue initialement (7500m)."
   ]
  },
  {
   "cell_type": "code",
   "execution_count": 29,
   "metadata": {
    "collapsed": false
   },
   "outputs": [
    {
     "name": "stdout",
     "output_type": "stream",
     "text": [
      "Error criterion at quantile 80 on training : 877.651496575 m.\n"
     ]
    }
   ],
   "source": [
    "# Error criterion\n",
    "print(\"Error criterion at quantile 80 on training : \" + str(np.percentile(err_vec_train, 80)) + \" m.\")"
   ]
  },
  {
   "cell_type": "code",
   "execution_count": 30,
   "metadata": {
    "collapsed": false
   },
   "outputs": [
    {
     "name": "stdout",
     "output_type": "stream",
     "text": [
      "Error criterion at quantile 80 on validation-test : 5049.83789377 m.\n"
     ]
    }
   ],
   "source": [
    "# Error criterion\n",
    "print(\"Error criterion at quantile 80 on validation-test : \" + str(np.percentile(err_vec_test, 80)) + \" m.\")"
   ]
  },
  {
   "cell_type": "code",
   "execution_count": 31,
   "metadata": {
    "collapsed": false
   },
   "outputs": [],
   "source": [
    "# retrain model on the full dataset\n",
    "svr_lat = SVR(C=100, epsilon=0.001, gamma=0.005)\n",
    "svr_lat.fit(df_feat_train, ground_truth_lat)\n",
    "\n",
    "svr_lng = SVR(C=100, epsilon=0.001, gamma=0.005)\n",
    "svr_lng.fit(df_feat_train, ground_truth_lng)\n",
    "\n",
    "y_pred_lat = svr_lat.predict(df_feat_test_to_submit)\n",
    "y_pred_lng = svr_lng.predict(df_feat_test_to_submit)"
   ]
  },
  {
   "cell_type": "code",
   "execution_count": 32,
   "metadata": {
    "collapsed": false
   },
   "outputs": [
    {
     "data": {
      "text/html": [
       "<div>\n",
       "<table border=\"1\" class=\"dataframe\">\n",
       "  <thead>\n",
       "    <tr style=\"text-align: right;\">\n",
       "      <th></th>\n",
       "      <th>lat</th>\n",
       "      <th>lng</th>\n",
       "    </tr>\n",
       "  </thead>\n",
       "  <tbody>\n",
       "    <tr>\n",
       "      <th>0</th>\n",
       "      <td>39.676463</td>\n",
       "      <td>-105.046154</td>\n",
       "    </tr>\n",
       "    <tr>\n",
       "      <th>1</th>\n",
       "      <td>39.889777</td>\n",
       "      <td>-105.058690</td>\n",
       "    </tr>\n",
       "    <tr>\n",
       "      <th>2</th>\n",
       "      <td>39.690800</td>\n",
       "      <td>-105.007973</td>\n",
       "    </tr>\n",
       "    <tr>\n",
       "      <th>3</th>\n",
       "      <td>39.785238</td>\n",
       "      <td>-105.067992</td>\n",
       "    </tr>\n",
       "    <tr>\n",
       "      <th>4</th>\n",
       "      <td>39.691158</td>\n",
       "      <td>-105.006418</td>\n",
       "    </tr>\n",
       "  </tbody>\n",
       "</table>\n",
       "</div>"
      ],
      "text/plain": [
       "         lat         lng\n",
       "0  39.676463 -105.046154\n",
       "1  39.889777 -105.058690\n",
       "2  39.690800 -105.007973\n",
       "3  39.785238 -105.067992\n",
       "4  39.691158 -105.006418"
      ]
     },
     "execution_count": 32,
     "metadata": {},
     "output_type": "execute_result"
    }
   ],
   "source": [
    "test_res = pd.DataFrame(np.array([y_pred_lat, y_pred_lng]).T, columns = ['lat', 'lng'])\n",
    "test_res.head()"
   ]
  },
  {
   "cell_type": "code",
   "execution_count": 33,
   "metadata": {
    "collapsed": false
   },
   "outputs": [],
   "source": [
    "test_res.to_csv('pred_pos_test_list.csv', index=False)"
   ]
  },
  {
   "cell_type": "code",
   "execution_count": 34,
   "metadata": {
    "collapsed": false
   },
   "outputs": [
    {
     "data": {
      "text/html": [
       "<div>\n",
       "<table border=\"1\" class=\"dataframe\">\n",
       "  <thead>\n",
       "    <tr style=\"text-align: right;\">\n",
       "      <th></th>\n",
       "      <th>lat</th>\n",
       "      <th>lng</th>\n",
       "    </tr>\n",
       "  </thead>\n",
       "  <tbody>\n",
       "    <tr>\n",
       "      <th>count</th>\n",
       "      <td>5294.000000</td>\n",
       "      <td>5294.000000</td>\n",
       "    </tr>\n",
       "    <tr>\n",
       "      <th>mean</th>\n",
       "      <td>39.742012</td>\n",
       "      <td>-105.049496</td>\n",
       "    </tr>\n",
       "    <tr>\n",
       "      <th>std</th>\n",
       "      <td>0.120104</td>\n",
       "      <td>0.094941</td>\n",
       "    </tr>\n",
       "    <tr>\n",
       "      <th>min</th>\n",
       "      <td>36.229940</td>\n",
       "      <td>-107.049860</td>\n",
       "    </tr>\n",
       "    <tr>\n",
       "      <th>25%</th>\n",
       "      <td>39.714835</td>\n",
       "      <td>-105.057081</td>\n",
       "    </tr>\n",
       "    <tr>\n",
       "      <th>50%</th>\n",
       "      <td>39.728789</td>\n",
       "      <td>-105.042917</td>\n",
       "    </tr>\n",
       "    <tr>\n",
       "      <th>75%</th>\n",
       "      <td>39.773078</td>\n",
       "      <td>-105.010733</td>\n",
       "    </tr>\n",
       "    <tr>\n",
       "      <th>max</th>\n",
       "      <td>42.377054</td>\n",
       "      <td>-102.528847</td>\n",
       "    </tr>\n",
       "  </tbody>\n",
       "</table>\n",
       "</div>"
      ],
      "text/plain": [
       "               lat          lng\n",
       "count  5294.000000  5294.000000\n",
       "mean     39.742012  -105.049496\n",
       "std       0.120104     0.094941\n",
       "min      36.229940  -107.049860\n",
       "25%      39.714835  -105.057081\n",
       "50%      39.728789  -105.042917\n",
       "75%      39.773078  -105.010733\n",
       "max      42.377054  -102.528847"
      ]
     },
     "execution_count": 34,
     "metadata": {},
     "output_type": "execute_result"
    }
   ],
   "source": [
    "test_res.describe()"
   ]
  },
  {
   "cell_type": "markdown",
   "metadata": {},
   "source": [
    "## Leave one out"
   ]
  },
  {
   "cell_type": "code",
   "execution_count": 35,
   "metadata": {
    "collapsed": false
   },
   "outputs": [
    {
     "name": "stderr",
     "output_type": "stream",
     "text": [
      "C:\\Users\\Greg\\Anaconda3\\lib\\site-packages\\ipykernel\\__main__.py:4: SettingWithCopyWarning: \n",
      "A value is trying to be set on a copy of a slice from a DataFrame.\n",
      "Try using .loc[row_indexer,col_indexer] = value instead\n",
      "\n",
      "See the caveats in the documentation: http://pandas.pydata.org/pandas-docs/stable/indexing.html#indexing-view-versus-copy\n",
      "C:\\Users\\Greg\\Anaconda3\\lib\\site-packages\\ipykernel\\__main__.py:18: SettingWithCopyWarning: \n",
      "A value is trying to be set on a copy of a slice from a DataFrame.\n",
      "Try using .loc[row_indexer,col_indexer] = value instead\n",
      "\n",
      "See the caveats in the documentation: http://pandas.pydata.org/pandas-docs/stable/indexing.html#indexing-view-versus-copy\n"
     ]
    },
    {
     "name": "stdout",
     "output_type": "stream",
     "text": [
      "We left out the device number 476600.0 and build the features matrix, there are 56 messages from this device.\n"
     ]
    }
   ],
   "source": [
    "\n",
    "def build_feat_pos_leave_one_out(df_mess_train, df_mess_test, pos_train, dev_id=476600.0):\n",
    "    \n",
    "    df_mess_train[\"Feature\"] = df_mess_train[\"rssi\"]\n",
    "    df_mess_test[\"Feature\"] = df_mess_test[\"rssi\"]\n",
    "\n",
    "    df_total = pd.concat([df_mess_train, df_mess_test])\n",
    "    df_total_pivot = df_total.pivot_table(index = \"objid\", columns = \"bsid\", values = \"Feature\")\n",
    "    \n",
    "    df_total_pivot[df_total_pivot.isnull()] = -300\n",
    "    \n",
    "    # features for train and test\n",
    "    df_pivot_train = df_total_pivot[df_total_pivot.index.isin(df_mess_train.objid.unique())]\n",
    "    df_pivot_test = df_total_pivot[df_total_pivot.index.isin(df_mess_test.objid.unique())]\n",
    "    \n",
    "    # select one device by its id\n",
    "    df_objid_did = df_mess_train[['objid', 'did']]\n",
    "    df_objid_did['value'] = 1\n",
    "    df_pivot_objid_did = pd.pivot_table(df_objid_did, index = \"did\", columns = \"objid\", values='value', fill_value=0)\n",
    "    \n",
    "    nb_dev = df_pivot_objid_did.shape[0]\n",
    "    \n",
    "    balise_row = df_pivot_objid_did.loc[dev_id]\n",
    "    objid_dev = balise_row[balise_row == 1].index.values\n",
    "\n",
    "    df_feat_0 = df_pivot_train.loc[objid_dev]\n",
    "    df_feat_all_rest = df_pivot_train[~df_pivot_train.index.isin(objid_dev)]\n",
    "\n",
    "    df_pos = pd.concat([df_mess_train.objid, pos_train], axis = 1).drop_duplicates()\n",
    "    df_pos = df_pos.set_index('objid')\n",
    "    df_pos.columns = ('lat', 'lng')\n",
    "    \n",
    "    df_pos_0 = df_pos.loc[objid_dev]\n",
    "    \n",
    "    df_pos_all_rest = df_pos[~df_pivot_train.index.isin(objid_dev)]\n",
    "\n",
    "    return df_feat_all_rest.values, df_feat_0.values, df_pos_all_rest.values, df_pos_0.values, dev_id\n",
    "\n",
    "\n",
    "X_all_rest, X_dev, y_all_rest, y_dev, dev_id = build_feat_pos_leave_one_out(df_mess_train_clean, df_mess_test_to_submit, pos_train_clean)\n",
    "print('We left out the device number {:} and build the features matrix, there are {:} messages from this device.'.format(dev_id, y_dev.shape[0]))\n"
   ]
  },
  {
   "cell_type": "code",
   "execution_count": 36,
   "metadata": {
    "collapsed": false
   },
   "outputs": [],
   "source": [
    "# fit and predict on the left out device\n",
    "\n",
    "svr_lat = SVR(C=100, epsilon=0.001, gamma=0.005)\n",
    "svr_lat.fit(X_all_rest, y_all_rest[:, 0])\n",
    "\n",
    "svr_lng = SVR(C=100, epsilon=0.001, gamma=0.005)\n",
    "svr_lng.fit(X_all_rest, y_all_rest[:, 1])\n",
    "\n",
    "y_pred_lat = svr_lat.predict(X_dev)\n",
    "y_pred_lng = svr_lng.predict(X_dev)\n",
    "\n",
    "err_vec_test_dev = Eval_geoloc(y_pred_lat, y_pred_lng, y_dev[:, 0], y_dev[:, 1])\n"
   ]
  },
  {
   "cell_type": "code",
   "execution_count": 37,
   "metadata": {
    "collapsed": false
   },
   "outputs": [
    {
     "data": {
      "text/plain": [
       "<matplotlib.legend.Legend at 0x123efd13780>"
      ]
     },
     "execution_count": 37,
     "metadata": {},
     "output_type": "execute_result"
    },
    {
     "data": {
      "image/png": "[encoded data removed]",
      "text/plain": [
       "<matplotlib.figure.Figure at 0x123efe9ac50>"
      ]
     },
     "metadata": {},
     "output_type": "display_data"
    }
   ],
   "source": [
    "# Plot error distribution on the device\n",
    "values_test_dev, base_test_dev = np.histogram(err_vec_test_dev, bins=50000)\n",
    "cumulative_test_dev = np.cumsum(values_test_dev)\n",
    "plt.figure();\n",
    "plt.plot(base_test_dev[:-1]/1000, cumulative_test_dev / np.float(np.sum(values_test_dev))  * 100.0, c='blue')\n",
    "plt.xlabel('Distance Error (km)'); plt.ylabel('Cum proba (%)'); plt.axis([0, 30, 0, 100]); \n",
    "plt.title('Error Cumulative Probability'); plt.legend( [\"Error on test\", \"Error on train\"])"
   ]
  },
  {
   "cell_type": "markdown",
   "metadata": {},
   "source": [
    "## Synthèse-Conclusion:"
   ]
  },
  {
   "cell_type": "markdown",
   "metadata": {},
   "source": [
    "La matrice des features a été retraitée en effectuant un remplacement de la donnée binaire 0 ou 1 (associant une station de base et un objet lorsqu'un message a été échangé entre eux), par la valeur du RSSI lors de cet échange. Sans retraitement particulier, les valeurs inconnues de RSSI se trouvaient avec une valeur de 0 qui dans l'échelle de réception radio était une bonne valeur, cela a donc été remplacé par une valeur plus cohérente de -300 (double par rapport à la plus faible valeur de RSSI de l'ensemble d'entraînement).\n",
    "\n",
    "Cette utilisation du RSSI a permis d'obtenir une première amélioration de la performance mesurée par la distance d'erreur.\n",
    "\n",
    "La problématique de localisation des objets étant un problème de régression, les régresseurs LogisticRegression, KNN-R, et SVR-R ont été utilisés. Les meilleures performances ont été obtenues avec le SVR-R avec GridSearch pour trouver les meilleurs hyperparamètres, en prenant soin de calibrer le paramètre $\\epsilon$ du modèle (représentant l'intervalle autour de la valeur cible pour lequel aucune pénalité n'est appliquée) de façon à être comparable à une petite distance dans le système de coordonnées WGS84. La distance d'erreur obtenue est de l'ordre de 800 mètres.\n"
   ]
  },
  {
   "cell_type": "code",
   "execution_count": null,
   "metadata": {
    "collapsed": true
   },
   "outputs": [],
   "source": []
  }
 ],
 "metadata": {
  "anaconda-cloud": {},
  "kernelspec": {
   "display_name": "Python [Root]",
   "language": "python",
   "name": "Python [Root]"
  },
  "language_info": {
   "codemirror_mode": {
    "name": "ipython",
    "version": 3
   },
   "file_extension": ".py",
   "mimetype": "text/x-python",
   "name": "python",
   "nbconvert_exporter": "python",
   "pygments_lexer": "ipython3",
   "version": "3.5.2"
  }
 },
 "nbformat": 4,
 "nbformat_minor": 0
}
